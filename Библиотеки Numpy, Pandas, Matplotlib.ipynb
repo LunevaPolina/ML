{
 "cells": [
  {
   "cell_type": "markdown",
   "metadata": {
    "id": "vBhasKEakQdQ"
   },
   "source": [
    "## Введение в машинное обучение"
   ]
  },
  {
   "cell_type": "markdown",
   "metadata": {
    "id": "1_8-HCJ1kQdU"
   },
   "source": [
    "### Домашнее задание №1"
   ]
  },
  {
   "cell_type": "markdown",
   "metadata": {
    "id": "pR6Jozm8kQdV"
   },
   "source": [
    "Задание выполнил(а): Лунева Полина"
   ]
  },
  {
   "cell_type": "markdown",
   "metadata": {
    "id": "8Kc0kZRmkQdW"
   },
   "source": [
    "В данном домашнем задании используются библиотеки numpy, pandas и matplotlib"
   ]
  },
  {
   "cell_type": "markdown",
   "metadata": {
    "id": "NC4MRIJdkQda"
   },
   "source": [
    "## Часть 1. Numpy"
   ]
  },
  {
   "cell_type": "code",
   "execution_count": 24,
   "metadata": {
    "id": "8FGzaKpykQda"
   },
   "outputs": [],
   "source": [
    "import numpy as np"
   ]
  },
  {
   "cell_type": "markdown",
   "metadata": {
    "id": "klARQmr2kQdb"
   },
   "source": [
    "Во всех задачах необходимо написать код решения внутри функции и проверить его работу, вызвав функцию для данных из условия.\n",
    "\n",
    "При решении задач запрещается использовать циклы (`for`, `while`) и оператор `if`.\n",
    "\n",
    "Везде, где встречаются массивы или матрицы, подразумевается, что это `numpy.array`. "
   ]
  },
  {
   "cell_type": "markdown",
   "metadata": {
    "id": "xsOrrBankQdc"
   },
   "source": [
    "### 1"
   ]
  },
  {
   "cell_type": "markdown",
   "metadata": {
    "id": "M2PPaRuZkQdc"
   },
   "source": [
    "Напишите функцию, возвращающую округленную взвешенную сумму оценок по данным оценкам и весам. Можете посчитать свою оценку за курс :) В нашем случае вес экзамена равен 0.3, вес домашек - 0.42, вес контрольной - 0.14, вес самостоятельных - 0.14. Например, если за экзамен у вас 7, за домашки 10, за контрольную 8, а за самостоятельные 6, то вы получите отличную оценку 8!"
   ]
  },
  {
   "cell_type": "code",
   "execution_count": 70,
   "metadata": {
    "id": "R6Dm8rM9kQdc"
   },
   "outputs": [],
   "source": [
    "def result_mark(weights, marks):\n",
    "    return round(np.sum(weights * marks))"
   ]
  },
  {
   "cell_type": "code",
   "execution_count": 91,
   "metadata": {
    "id": "TNMRTHMokQdc"
   },
   "outputs": [
    {
     "data": {
      "text/plain": [
       "8"
      ]
     },
     "execution_count": 91,
     "metadata": {},
     "output_type": "execute_result"
    }
   ],
   "source": [
    "weights = np.array([0.3, 0.42, 0.14, 0.14])\n",
    "marks = np.array([7, 10, 8, 6])\n",
    "result_mark(weights, marks)"
   ]
  },
  {
   "cell_type": "markdown",
   "metadata": {
    "id": "P6Mz_2-ZkQdd"
   },
   "source": [
    "### 2"
   ]
  },
  {
   "cell_type": "markdown",
   "metadata": {
    "id": "iezrfWS1kQdd"
   },
   "source": [
    "Напишите функцию, меняющую все каждое третье (начиная с 0) значение массива целых чисел на заданное число. Например, если на вход поступает массив `array([3, 5, 1, 0, -3, 22, 213436])` и число `-111`, то на выходе должен получиться массив `array([-111, 5, 1, -111, -3, 22, -111])`."
   ]
  },
  {
   "cell_type": "code",
   "execution_count": 62,
   "metadata": {
    "id": "lkplEKUGkQdd"
   },
   "outputs": [],
   "source": [
    "def change_array(array, number):\n",
    "    array[::3] = number\n",
    "    return array"
   ]
  },
  {
   "cell_type": "code",
   "execution_count": 63,
   "metadata": {
    "id": "6vTCZpdhkQdd"
   },
   "outputs": [
    {
     "data": {
      "text/plain": [
       "array([-111,    5,    1, -111,   -3,   22, -111])"
      ]
     },
     "execution_count": 63,
     "metadata": {},
     "output_type": "execute_result"
    }
   ],
   "source": [
    "array = np.array([3, 5, 1, 0, -3, 22, 213436])\n",
    "number = -111\n",
    "change_array(array, number)"
   ]
  },
  {
   "cell_type": "markdown",
   "metadata": {
    "id": "_Cdqt2WLkQde"
   },
   "source": [
    "### 3"
   ]
  },
  {
   "cell_type": "markdown",
   "metadata": {
    "id": "9jwgpwzqkQde"
   },
   "source": [
    "Напишите функцию, выдающую индексы «близких» элементов заданных массивов, а именно тех пар элементов, чей модуль разницы не превосходит заданного значения. Например, если на вход поступают массив `array([1.5, 0.5, 2, -4.1, -3, 6, -1])`, массив `array([1.2, 0.5, 1, -4, 3, 0, -1.2])` и число `0.5`, то на выходе должен получиться массив `array([0, 1, 3, 6])` (_**важно: не `tuple`, а одномерный массив типа `numpy.ndarray` (то есть `.ndim` от него равно 1)!**_)."
   ]
  },
  {
   "cell_type": "code",
   "execution_count": 64,
   "metadata": {
    "id": "dUko0kjokQde"
   },
   "outputs": [],
   "source": [
    "def find_close(array1, array2, precision):\n",
    "    return np.where(np.abs(array1 - array2) <= precision)[0]"
   ]
  },
  {
   "cell_type": "code",
   "execution_count": 65,
   "metadata": {
    "id": "BeTb2ardkQde"
   },
   "outputs": [
    {
     "data": {
      "text/plain": [
       "array([0, 1, 3, 6], dtype=int64)"
      ]
     },
     "execution_count": 65,
     "metadata": {},
     "output_type": "execute_result"
    }
   ],
   "source": [
    "array1 = np.array([1.5, 0.5, 2, -4.1, -3, 6, -1])\n",
    "array2 = np.array([1.2, 0.5, 1, -4, 3, 0, -1.2])\n",
    "precision = 0.5\n",
    "find_close(array1, array2, precision)"
   ]
  },
  {
   "cell_type": "markdown",
   "metadata": {
    "id": "8_dost5akQdf"
   },
   "source": [
    "### 4"
   ]
  },
  {
   "cell_type": "markdown",
   "metadata": {
    "id": "dqpIIAhJkQdf"
   },
   "source": [
    "Напишите функцию, которая составляет блочную матрицу из четырех блоков, где каждый блок - это заданная матрица. Например, если на вход поступает матрица\n",
    "$$\n",
    "\\begin{pmatrix}\n",
    "0 & 1 & 2\\\\\n",
    "3 & 4 & 5\\\\\n",
    "\\end{pmatrix},\n",
    "$$\n",
    "то ответом будет матрица\n",
    "$$\n",
    "\\begin{pmatrix}\n",
    "0 & 1 & 2 & 0 & 1 & 2\\\\\n",
    "3 & 4 & 5 & 3 & 4 & 5\\\\\n",
    "0 & 1 & 2 & 0 & 1 & 2\\\\\n",
    "3 & 4 & 5 & 3 & 4 & 5\\\\\n",
    "\\end{pmatrix}\n",
    "$$"
   ]
  },
  {
   "cell_type": "code",
   "execution_count": 38,
   "metadata": {
    "id": "n-w538V_kQdf"
   },
   "outputs": [],
   "source": [
    "def block_matrix(block):\n",
    "    return np.vstack((np.hstack((block, block)), np.hstack((block, block))))"
   ]
  },
  {
   "cell_type": "code",
   "execution_count": 39,
   "metadata": {
    "id": "uqvgLTHikQdf"
   },
   "outputs": [
    {
     "data": {
      "text/plain": [
       "array([[0, 1, 2, 0, 1, 2],\n",
       "       [3, 4, 5, 3, 4, 5],\n",
       "       [0, 1, 2, 0, 1, 2],\n",
       "       [3, 4, 5, 3, 4, 5]])"
      ]
     },
     "execution_count": 39,
     "metadata": {},
     "output_type": "execute_result"
    }
   ],
   "source": [
    "block = np.array([[0, 1, 2], [3, 4, 5]])\n",
    "block_matrix(block)"
   ]
  },
  {
   "cell_type": "markdown",
   "metadata": {
    "id": "9zMqihgrkQdg"
   },
   "source": [
    "### 5"
   ]
  },
  {
   "cell_type": "markdown",
   "metadata": {
    "id": "x8-hA9t5kQdg"
   },
   "source": [
    "Напишите функцию, вычисляющую произведение всех ненулевых диагональных элементов на диагонали данной квадратной матрицы. Например, если на вход поступает матрица\n",
    "$$\n",
    "\\begin{pmatrix}\n",
    "0 & 1 & 2\\\\\n",
    "3 & 4 & 5\\\\\n",
    "6 & 7 & 8\\\\\n",
    "\\end{pmatrix},\n",
    "$$\n",
    "то ответом будет 32."
   ]
  },
  {
   "cell_type": "code",
   "execution_count": 54,
   "metadata": {
    "id": "qMAksKhnkQdg"
   },
   "outputs": [],
   "source": [
    "def diag_prod(matrix):\n",
    "    diag = np.diag(matrix)[np.diag(matrix) != 0]\n",
    "    return np.prod(diag)\n",
    "    "
   ]
  },
  {
   "cell_type": "code",
   "execution_count": 55,
   "metadata": {
    "id": "Lm0M9rAUkQdh"
   },
   "outputs": [
    {
     "data": {
      "text/plain": [
       "32"
      ]
     },
     "execution_count": 55,
     "metadata": {},
     "output_type": "execute_result"
    }
   ],
   "source": [
    "matrix = np.array([[0, 1, 2], [3, 4, 5], [6, 7, 8]])\n",
    "diag_prod(matrix)"
   ]
  },
  {
   "cell_type": "markdown",
   "metadata": {
    "id": "HYFoXZx3kQdh"
   },
   "source": [
    "### 6"
   ]
  },
  {
   "cell_type": "markdown",
   "metadata": {
    "id": "g67_4RSwkQdh"
   },
   "source": [
    "Для улучшения качества работы некоторых алгоритмов машинного обучения может быть полезно использовать [нормализацию данных](https://vk.cc/8xmfQk), чтобы привести признаки в выборке к одному масштабу — а именно, из каждого столбца вычесть среднее его значений и поделить на их стандартное отклонение. Напишите функцию, нормализующую входящую матрицу (по столбцам). Например, если на вход подается матрица \n",
    "$$\n",
    "\\begin{pmatrix}\n",
    "1 & 4 & 4200\\\\\n",
    "0 & 10 & 5000\\\\\n",
    "1 & 2 & 1000\\\\\n",
    "\\end{pmatrix},\n",
    "$$\n",
    "то результатом с точностью до сотых будет матрица\n",
    "$$\n",
    "\\begin{pmatrix}\n",
    "0.71 & -0.39 & 0.46\\\\\n",
    "-1.41 & 1.37 & 0.93\\\\\n",
    "0.71 & -0.98 & -1.39\\\\\n",
    "\\end{pmatrix}\n",
    "$$\n",
    "Учтите, что в вашей матрице не должно получаться никаких nan. Подумайте, в каком случае они могут возникнуть и как обойти эту проблему.\n",
    "\n",
    "_Подсказка. Казалось бы, при чем тут деление на ноль._"
   ]
  },
  {
   "cell_type": "code",
   "execution_count": 66,
   "metadata": {
    "id": "eeNjGefjkQdh"
   },
   "outputs": [],
   "source": [
    "def normalize(matrix):\n",
    "    return np.around((matrix - np.mean(matrix, axis=0))/(np.std(matrix, axis=0) + 0.0000000000000000000000001), 2)"
   ]
  },
  {
   "cell_type": "code",
   "execution_count": 67,
   "metadata": {
    "id": "BYnl7_CMkQdh"
   },
   "outputs": [
    {
     "data": {
      "text/plain": [
       "array([[ 0.71, -0.39,  0.46],\n",
       "       [-1.41,  1.37,  0.93],\n",
       "       [ 0.71, -0.98, -1.39]])"
      ]
     },
     "execution_count": 67,
     "metadata": {},
     "output_type": "execute_result"
    }
   ],
   "source": [
    "matrix = np.array([[1, 4, 4200], [0, 10, 5000], [1, 2, 1000]])\n",
    "normalize(matrix)"
   ]
  },
  {
   "cell_type": "code",
   "execution_count": 79,
   "metadata": {},
   "outputs": [],
   "source": [
    "# Второй вариант (без добавления маленького числа, ведущего к погрешности)\n",
    "\n",
    "def normalize(matrix):\n",
    "    matrix = matrix.astype(float)\n",
    "    std = np.std(matrix, axis=0)\n",
    "    std[std == 0] = 1\n",
    "    matrix -= np.mean(matrix, axis=0)\n",
    "    return np.around(matrix /std, 2)"
   ]
  },
  {
   "cell_type": "code",
   "execution_count": 80,
   "metadata": {},
   "outputs": [
    {
     "data": {
      "text/plain": [
       "array([[ 0.  , -0.39,  0.46],\n",
       "       [ 0.  ,  1.37,  0.93],\n",
       "       [ 0.  , -0.98, -1.39]])"
      ]
     },
     "execution_count": 80,
     "metadata": {},
     "output_type": "execute_result"
    }
   ],
   "source": [
    "# Проверка деления на ноль\n",
    "\n",
    "matrix = np.array([[1, 4, 4200], [1, 10, 5000], [1, 2, 1000]])\n",
    "normalize(matrix)"
   ]
  },
  {
   "cell_type": "markdown",
   "metadata": {
    "id": "l7T947nfkQdi"
   },
   "source": [
    "### 7"
   ]
  },
  {
   "cell_type": "markdown",
   "metadata": {
    "id": "y5Xa1eMekQdi"
   },
   "source": [
    "Напишите функцию, вычисляющую какую-нибудь первообразную данного полинома (в качестве константы возьмите ваше любимое число). Например, если на вход поступает массив коэффициентов `array([4, 6, 0, 1])`, что соответствует полиному $4x^3 + 6x^2 + 1$, на выходе получается массив коэффициентов `array([1, 2, 0, 1, -2])`, соответствующий полиному $x^4 + 2x^3 + x - 2$."
   ]
  },
  {
   "cell_type": "code",
   "execution_count": 81,
   "metadata": {
    "id": "6qn56gArkQdi"
   },
   "outputs": [],
   "source": [
    "def antiderivative(coefs):\n",
    "    return np.append(coefs / np.arange(len(coefs), 0, -1), 0)"
   ]
  },
  {
   "cell_type": "code",
   "execution_count": 82,
   "metadata": {
    "id": "prVVQ6_TkQdi"
   },
   "outputs": [
    {
     "data": {
      "text/plain": [
       "array([1., 2., 0., 1., 0.])"
      ]
     },
     "execution_count": 82,
     "metadata": {},
     "output_type": "execute_result"
    }
   ],
   "source": [
    "coefs = np.array([4, 6, 0, 1])\n",
    "antiderivative(coefs)"
   ]
  },
  {
   "cell_type": "markdown",
   "metadata": {
    "id": "GOiRm3nSkQdi"
   },
   "source": [
    "### 8"
   ]
  },
  {
   "cell_type": "markdown",
   "metadata": {
    "id": "sWtpjkk2kQdi"
   },
   "source": [
    "Напишите функцию, делающую данную [треугольную матрицу](https://ru.wikipedia.org/wiki/%D0%A2%D1%80%D0%B5%D1%83%D0%B3%D0%BE%D0%BB%D1%8C%D0%BD%D0%B0%D1%8F_%D0%BC%D0%B0%D1%82%D1%80%D0%B8%D1%86%D0%B0) симметричной. Например, если на вход поступает матрица\n",
    "$$\n",
    "\\begin{pmatrix}\n",
    "1 & 2 & 3 & 4\\\\\n",
    "0 & 5 & 6 & 7\\\\\n",
    "0 & 0 & 8 & 9\\\\\n",
    "0 & 0 & 0 & 10\\\\\n",
    "\\end{pmatrix},\n",
    "$$\n",
    "то на выходе должна быть матрица\n",
    "$$\n",
    "\\begin{pmatrix}\n",
    "1 & 2 & 3 & 4\\\\\n",
    "2 & 5 & 6 & 7\\\\\n",
    "3 & 6 & 8 & 9\\\\\n",
    "4 & 7 & 9 & 10\\\\\n",
    "\\end{pmatrix}.\n",
    "$$"
   ]
  },
  {
   "cell_type": "code",
   "execution_count": 26,
   "metadata": {
    "id": "o2-aMxeekQdj"
   },
   "outputs": [],
   "source": [
    "def make_symmetric(matrix):\n",
    "    return matrix + np.transpose(matrix) - np.diag(np.diag(matrix))"
   ]
  },
  {
   "cell_type": "code",
   "execution_count": 84,
   "metadata": {
    "id": "SDoxeZOKkQdj"
   },
   "outputs": [
    {
     "data": {
      "text/plain": [
       "array([[ 1,  2,  3,  4],\n",
       "       [ 2,  5,  6,  7],\n",
       "       [ 3,  6,  8,  9],\n",
       "       [ 4,  7,  9, 10]])"
      ]
     },
     "execution_count": 84,
     "metadata": {},
     "output_type": "execute_result"
    }
   ],
   "source": [
    "matrix = np.array([[1, 2, 3, 4], [0, 5, 6, 7], [0, 0, 8, 9], [0, 0, 0, 10]])\n",
    "make_symmetric(matrix)"
   ]
  },
  {
   "cell_type": "code",
   "execution_count": 28,
   "metadata": {},
   "outputs": [
    {
     "data": {
      "text/plain": [
       "array([[ -1,   2,   3,   4],\n",
       "       [  2,  -5,  -6,  -7],\n",
       "       [  3,  -6,  -8,   9],\n",
       "       [  4,  -7,   9, -10]])"
      ]
     },
     "execution_count": 28,
     "metadata": {},
     "output_type": "execute_result"
    }
   ],
   "source": [
    "# Проверка для нижнетругольной матрицы с отрицательными числами\n",
    "\n",
    "matrix = np.array([[-1, 0, 0, 0], [2, -5, 0, 0], [3, -6, -8, 0], [4, -7, 9, -10]])\n",
    "make_symmetric(matrix)"
   ]
  },
  {
   "cell_type": "markdown",
   "metadata": {
    "id": "ApYddd_vkQdj"
   },
   "source": [
    "### 9"
   ]
  },
  {
   "cell_type": "markdown",
   "metadata": {
    "id": "dzjUdJ82kQdj"
   },
   "source": [
    "Напишите функцию, создающую прямоугольную матрицу из m одинаковых строк, заполненных последовательными натуральными числами от a до b включительно в возрастающем порядке. Например, если m = 5, a = 3, b = 10, то на выходе будет матрица\n",
    "$$\n",
    "\\begin{pmatrix}\n",
    "3 & 4 & 5 & 6 & 7 & 8 & 9 & 10\\\\\n",
    "3 & 4 & 5 & 6 & 7 & 8 & 9 & 10\\\\\n",
    "3 & 4 & 5 & 6 & 7 & 8 & 9 & 10\\\\\n",
    "3 & 4 & 5 & 6 & 7 & 8 & 9 & 10\\\\\n",
    "3 & 4 & 5 & 6 & 7 & 8 & 9 & 10\\\\\n",
    "\\end{pmatrix}\n",
    "$$"
   ]
  },
  {
   "cell_type": "code",
   "execution_count": 35,
   "metadata": {
    "id": "pIeN7U0DkQdj"
   },
   "outputs": [],
   "source": [
    "def construct_matrix(m, a, b):\n",
    "    return np.array([np.arange(a, b + 1)] * m)\n",
    "\n",
    "# Альтернатива:\n",
    "# def construct_matrix(m, a, b):\n",
    "#    return np.tile(np.arange(a, b + 1), (m,1))"
   ]
  },
  {
   "cell_type": "code",
   "execution_count": 36,
   "metadata": {
    "id": "AHipMWuOkQdj"
   },
   "outputs": [
    {
     "data": {
      "text/plain": [
       "array([[ 3,  4,  5,  6,  7,  8,  9, 10],\n",
       "       [ 3,  4,  5,  6,  7,  8,  9, 10],\n",
       "       [ 3,  4,  5,  6,  7,  8,  9, 10],\n",
       "       [ 3,  4,  5,  6,  7,  8,  9, 10],\n",
       "       [ 3,  4,  5,  6,  7,  8,  9, 10]])"
      ]
     },
     "execution_count": 36,
     "metadata": {},
     "output_type": "execute_result"
    }
   ],
   "source": [
    "m = 5\n",
    "a = 3\n",
    "b = 10\n",
    "construct_matrix(m, a, b)"
   ]
  },
  {
   "cell_type": "markdown",
   "metadata": {
    "id": "TTwBvPA-kQdj"
   },
   "source": [
    "### 10"
   ]
  },
  {
   "cell_type": "markdown",
   "metadata": {
    "id": "4NiX6zSfkQdk"
   },
   "source": [
    "Напишите функцию, вычисляющую [косинусную близость](https://en.wikipedia.org/wiki/Cosine_similarity) двух векторов. Например, если на вход поступают вектора `array([-2, 1, 0, -5, 4, 3, -3])` и `array([0, 2, -2, 10, 6, 0, 0])`, ответом будет -0.25."
   ]
  },
  {
   "cell_type": "code",
   "execution_count": 88,
   "metadata": {
    "id": "GwGdM_KkkQdk"
   },
   "outputs": [],
   "source": [
    "def cosine_similarity(vec1, vec2):\n",
    "    return np.dot(vec1, vec2) / (np.linalg.norm(vec1) * np.linalg.norm(vec2))\n"
   ]
  },
  {
   "cell_type": "code",
   "execution_count": 89,
   "metadata": {
    "id": "e8l3OxGUkQdk"
   },
   "outputs": [
    {
     "data": {
      "text/plain": [
       "-0.25"
      ]
     },
     "execution_count": 89,
     "metadata": {},
     "output_type": "execute_result"
    }
   ],
   "source": [
    "vec1 = np.array([-2, 1, 0, -5, 4, 3, -3])\n",
    "vec2 = np.array([0, 2, -2, 10, 6, 0, 0])\n",
    "cosine_similarity(vec1, vec2)"
   ]
  },
  {
   "cell_type": "markdown",
   "metadata": {
    "id": "nKlKTnikkQdk"
   },
   "source": [
    "## Часть 2. Pandas и Matplotlib"
   ]
  },
  {
   "cell_type": "code",
   "execution_count": 1,
   "metadata": {
    "id": "nOVSVUy6kQdk"
   },
   "outputs": [],
   "source": [
    "import matplotlib.pyplot as plt\n",
    "import pandas as pd\n",
    "\n",
    "%matplotlib inline"
   ]
  },
  {
   "cell_type": "markdown",
   "metadata": {
    "id": "SFq7t5VEkQdk"
   },
   "source": [
    "В этой части домашнего задания вы поработаете с данными о пассажирах с затонувшего «Титаника». Описание данных:\n",
    "\n",
    "https://www.kaggle.com/c/titanic/data\n",
    "\n",
    "Каждый построенный график необходимо красиво оформить - для этого требуется как минимум указать его название, а также отметить, что изображено по каждой из осей.\n",
    "\n",
    "*Функции, которые могут пригодиться при оформлении графиков: `.show()`, `.title()`, `.xlabel()`, `.ylabel()`*"
   ]
  },
  {
   "cell_type": "markdown",
   "metadata": {
    "id": "7g7Sm45vkQdk"
   },
   "source": [
    "### 11"
   ]
  },
  {
   "cell_type": "markdown",
   "metadata": {
    "id": "kp5Z5_nHkQdl"
   },
   "source": [
    "Откройте в ноутбуке файл с данными (\"train.csv\"). Какой размер имеет таблица? Выведите первые 5, последние 5 строк и размер."
   ]
  },
  {
   "cell_type": "code",
   "execution_count": 2,
   "metadata": {
    "id": "P8J3TWC2kQdl"
   },
   "outputs": [],
   "source": [
    "# Чтение данных из файла\n",
    "# Если бы данные и ноутбук находились в разных папках, то нужно было бы прописать путь к к файлу\n",
    "# В данном файле разделителем является запятая\n",
    "\n",
    "data = pd.read_csv('train.csv', delimiter=',')"
   ]
  },
  {
   "cell_type": "code",
   "execution_count": 73,
   "metadata": {},
   "outputs": [
    {
     "data": {
      "text/html": [
       "<div>\n",
       "<style scoped>\n",
       "    .dataframe tbody tr th:only-of-type {\n",
       "        vertical-align: middle;\n",
       "    }\n",
       "\n",
       "    .dataframe tbody tr th {\n",
       "        vertical-align: top;\n",
       "    }\n",
       "\n",
       "    .dataframe thead th {\n",
       "        text-align: right;\n",
       "    }\n",
       "</style>\n",
       "<table border=\"1\" class=\"dataframe\">\n",
       "  <thead>\n",
       "    <tr style=\"text-align: right;\">\n",
       "      <th></th>\n",
       "      <th>PassengerId</th>\n",
       "      <th>Survived</th>\n",
       "      <th>Pclass</th>\n",
       "      <th>Name</th>\n",
       "      <th>Sex</th>\n",
       "      <th>Age</th>\n",
       "      <th>SibSp</th>\n",
       "      <th>Parch</th>\n",
       "      <th>Ticket</th>\n",
       "      <th>Fare</th>\n",
       "      <th>Cabin</th>\n",
       "      <th>Embarked</th>\n",
       "    </tr>\n",
       "  </thead>\n",
       "  <tbody>\n",
       "    <tr>\n",
       "      <th>0</th>\n",
       "      <td>1</td>\n",
       "      <td>0</td>\n",
       "      <td>3</td>\n",
       "      <td>Braund, Mr. Owen Harris</td>\n",
       "      <td>male</td>\n",
       "      <td>22.0</td>\n",
       "      <td>1</td>\n",
       "      <td>0</td>\n",
       "      <td>A/5 21171</td>\n",
       "      <td>7.2500</td>\n",
       "      <td>NaN</td>\n",
       "      <td>S</td>\n",
       "    </tr>\n",
       "    <tr>\n",
       "      <th>1</th>\n",
       "      <td>2</td>\n",
       "      <td>1</td>\n",
       "      <td>1</td>\n",
       "      <td>Cumings, Mrs. John Bradley (Florence Briggs Th...</td>\n",
       "      <td>female</td>\n",
       "      <td>38.0</td>\n",
       "      <td>1</td>\n",
       "      <td>0</td>\n",
       "      <td>PC 17599</td>\n",
       "      <td>71.2833</td>\n",
       "      <td>C85</td>\n",
       "      <td>C</td>\n",
       "    </tr>\n",
       "    <tr>\n",
       "      <th>2</th>\n",
       "      <td>3</td>\n",
       "      <td>1</td>\n",
       "      <td>3</td>\n",
       "      <td>Heikkinen, Miss. Laina</td>\n",
       "      <td>female</td>\n",
       "      <td>26.0</td>\n",
       "      <td>0</td>\n",
       "      <td>0</td>\n",
       "      <td>STON/O2. 3101282</td>\n",
       "      <td>7.9250</td>\n",
       "      <td>NaN</td>\n",
       "      <td>S</td>\n",
       "    </tr>\n",
       "    <tr>\n",
       "      <th>3</th>\n",
       "      <td>4</td>\n",
       "      <td>1</td>\n",
       "      <td>1</td>\n",
       "      <td>Futrelle, Mrs. Jacques Heath (Lily May Peel)</td>\n",
       "      <td>female</td>\n",
       "      <td>35.0</td>\n",
       "      <td>1</td>\n",
       "      <td>0</td>\n",
       "      <td>113803</td>\n",
       "      <td>53.1000</td>\n",
       "      <td>C123</td>\n",
       "      <td>S</td>\n",
       "    </tr>\n",
       "    <tr>\n",
       "      <th>4</th>\n",
       "      <td>5</td>\n",
       "      <td>0</td>\n",
       "      <td>3</td>\n",
       "      <td>Allen, Mr. William Henry</td>\n",
       "      <td>male</td>\n",
       "      <td>35.0</td>\n",
       "      <td>0</td>\n",
       "      <td>0</td>\n",
       "      <td>373450</td>\n",
       "      <td>8.0500</td>\n",
       "      <td>NaN</td>\n",
       "      <td>S</td>\n",
       "    </tr>\n",
       "  </tbody>\n",
       "</table>\n",
       "</div>"
      ],
      "text/plain": [
       "   PassengerId  Survived  Pclass  \\\n",
       "0            1         0       3   \n",
       "1            2         1       1   \n",
       "2            3         1       3   \n",
       "3            4         1       1   \n",
       "4            5         0       3   \n",
       "\n",
       "                                                Name     Sex   Age  SibSp  \\\n",
       "0                            Braund, Mr. Owen Harris    male  22.0      1   \n",
       "1  Cumings, Mrs. John Bradley (Florence Briggs Th...  female  38.0      1   \n",
       "2                             Heikkinen, Miss. Laina  female  26.0      0   \n",
       "3       Futrelle, Mrs. Jacques Heath (Lily May Peel)  female  35.0      1   \n",
       "4                           Allen, Mr. William Henry    male  35.0      0   \n",
       "\n",
       "   Parch            Ticket     Fare Cabin Embarked  \n",
       "0      0         A/5 21171   7.2500   NaN        S  \n",
       "1      0          PC 17599  71.2833   C85        C  \n",
       "2      0  STON/O2. 3101282   7.9250   NaN        S  \n",
       "3      0            113803  53.1000  C123        S  \n",
       "4      0            373450   8.0500   NaN        S  "
      ]
     },
     "execution_count": 73,
     "metadata": {},
     "output_type": "execute_result"
    }
   ],
   "source": [
    "# Первые 5 строк\n",
    "# Если не указывать количество строк, то оно равно 5\n",
    "\n",
    "data.head()"
   ]
  },
  {
   "cell_type": "code",
   "execution_count": 12,
   "metadata": {},
   "outputs": [
    {
     "data": {
      "text/html": [
       "<div>\n",
       "<style scoped>\n",
       "    .dataframe tbody tr th:only-of-type {\n",
       "        vertical-align: middle;\n",
       "    }\n",
       "\n",
       "    .dataframe tbody tr th {\n",
       "        vertical-align: top;\n",
       "    }\n",
       "\n",
       "    .dataframe thead th {\n",
       "        text-align: right;\n",
       "    }\n",
       "</style>\n",
       "<table border=\"1\" class=\"dataframe\">\n",
       "  <thead>\n",
       "    <tr style=\"text-align: right;\">\n",
       "      <th></th>\n",
       "      <th>PassengerId</th>\n",
       "      <th>Survived</th>\n",
       "      <th>Pclass</th>\n",
       "      <th>Name</th>\n",
       "      <th>Sex</th>\n",
       "      <th>Age</th>\n",
       "      <th>SibSp</th>\n",
       "      <th>Parch</th>\n",
       "      <th>Ticket</th>\n",
       "      <th>Fare</th>\n",
       "      <th>Cabin</th>\n",
       "      <th>Embarked</th>\n",
       "    </tr>\n",
       "  </thead>\n",
       "  <tbody>\n",
       "    <tr>\n",
       "      <th>886</th>\n",
       "      <td>887</td>\n",
       "      <td>0</td>\n",
       "      <td>2</td>\n",
       "      <td>Montvila, Rev. Juozas</td>\n",
       "      <td>male</td>\n",
       "      <td>27.0</td>\n",
       "      <td>0</td>\n",
       "      <td>0</td>\n",
       "      <td>211536</td>\n",
       "      <td>13.00</td>\n",
       "      <td>NaN</td>\n",
       "      <td>S</td>\n",
       "    </tr>\n",
       "    <tr>\n",
       "      <th>887</th>\n",
       "      <td>888</td>\n",
       "      <td>1</td>\n",
       "      <td>1</td>\n",
       "      <td>Graham, Miss. Margaret Edith</td>\n",
       "      <td>female</td>\n",
       "      <td>19.0</td>\n",
       "      <td>0</td>\n",
       "      <td>0</td>\n",
       "      <td>112053</td>\n",
       "      <td>30.00</td>\n",
       "      <td>B42</td>\n",
       "      <td>S</td>\n",
       "    </tr>\n",
       "    <tr>\n",
       "      <th>888</th>\n",
       "      <td>889</td>\n",
       "      <td>0</td>\n",
       "      <td>3</td>\n",
       "      <td>Johnston, Miss. Catherine Helen \"Carrie\"</td>\n",
       "      <td>female</td>\n",
       "      <td>NaN</td>\n",
       "      <td>1</td>\n",
       "      <td>2</td>\n",
       "      <td>W./C. 6607</td>\n",
       "      <td>23.45</td>\n",
       "      <td>NaN</td>\n",
       "      <td>S</td>\n",
       "    </tr>\n",
       "    <tr>\n",
       "      <th>889</th>\n",
       "      <td>890</td>\n",
       "      <td>1</td>\n",
       "      <td>1</td>\n",
       "      <td>Behr, Mr. Karl Howell</td>\n",
       "      <td>male</td>\n",
       "      <td>26.0</td>\n",
       "      <td>0</td>\n",
       "      <td>0</td>\n",
       "      <td>111369</td>\n",
       "      <td>30.00</td>\n",
       "      <td>C148</td>\n",
       "      <td>C</td>\n",
       "    </tr>\n",
       "    <tr>\n",
       "      <th>890</th>\n",
       "      <td>891</td>\n",
       "      <td>0</td>\n",
       "      <td>3</td>\n",
       "      <td>Dooley, Mr. Patrick</td>\n",
       "      <td>male</td>\n",
       "      <td>32.0</td>\n",
       "      <td>0</td>\n",
       "      <td>0</td>\n",
       "      <td>370376</td>\n",
       "      <td>7.75</td>\n",
       "      <td>NaN</td>\n",
       "      <td>Q</td>\n",
       "    </tr>\n",
       "  </tbody>\n",
       "</table>\n",
       "</div>"
      ],
      "text/plain": [
       "     PassengerId  Survived  Pclass                                      Name  \\\n",
       "886          887         0       2                     Montvila, Rev. Juozas   \n",
       "887          888         1       1              Graham, Miss. Margaret Edith   \n",
       "888          889         0       3  Johnston, Miss. Catherine Helen \"Carrie\"   \n",
       "889          890         1       1                     Behr, Mr. Karl Howell   \n",
       "890          891         0       3                       Dooley, Mr. Patrick   \n",
       "\n",
       "        Sex   Age  SibSp  Parch      Ticket   Fare Cabin Embarked  \n",
       "886    male  27.0      0      0      211536  13.00   NaN        S  \n",
       "887  female  19.0      0      0      112053  30.00   B42        S  \n",
       "888  female   NaN      1      2  W./C. 6607  23.45   NaN        S  \n",
       "889    male  26.0      0      0      111369  30.00  C148        C  \n",
       "890    male  32.0      0      0      370376   7.75   NaN        Q  "
      ]
     },
     "execution_count": 12,
     "metadata": {},
     "output_type": "execute_result"
    }
   ],
   "source": [
    "# Последние 5 строк\n",
    "# Если не указывать количество строк, то оно равно 5\n",
    "\n",
    "data.tail()"
   ]
  },
  {
   "cell_type": "code",
   "execution_count": 8,
   "metadata": {},
   "outputs": [
    {
     "name": "stdout",
     "output_type": "stream",
     "text": [
      "Размер таблицы: (891, 12)\n"
     ]
    }
   ],
   "source": [
    "# Размер\n",
    "\n",
    "print('Размер таблицы:', data.shape)"
   ]
  },
  {
   "cell_type": "markdown",
   "metadata": {
    "id": "jq_MA8ALkQdl"
   },
   "source": [
    "### 12"
   ]
  },
  {
   "cell_type": "markdown",
   "metadata": {
    "id": "Mce1YNHekQdl"
   },
   "source": [
    "Для каждого из признаков укажите его тип (вещественный, категориальный, порядковый, бинарный, другое) Объясните, почему вы так считаете. Придумайте три задачи, которые можно было бы решать для данного датасета — задачу регрессии, задачу классификации и задачу кластеризации."
   ]
  },
  {
   "cell_type": "code",
   "execution_count": null,
   "metadata": {},
   "outputs": [],
   "source": [
    "Типы признаков:\n",
    "    PassengerId - вещественный (номера пассажиров, идущие подряд, начиная с единицы; они измеряются в целых числах)\n",
    "    Survived - бинарный (подвид категориального признака, где есть только две опции: 0 (не выжил) и 1 (выжил))\n",
    "    Pclass - порядковый (три опции (первый, второй и третий класс), которые можно сравнивать (первый класс считается лучшим))\n",
    "    Name - другое (тип строковый; в основном уникальные значения, хотя бывают и исключения)\n",
    "    Sex - бинарный (подвид категориального признака, где есть только две опции: male (мужчина) и female (женщина))\n",
    "    Age - вещественный (числа обозначают возраст пассажиров, который измеряется в числах; нецелочисленный тип (.0))\n",
    "#       - порядковый (также возраст можно сравнивать, поэтому в некоторых случаях его можно отнести к порядковому признаку)\n",
    "    SibSp - вещественный (количество братьев, сестер, супругов, которое измеряется в целых числах)\n",
    "    Parch - вещественный (количество родителей, детей, которое измеряется в целых числах)\n",
    "    Ticket - другое (тип строковый, включающий как буквы, так и цифры)\n",
    "    Fare - вещественный (плата, которая измеряется в дробных числах)\n",
    "    Cabin - категориальный (ограниченное число кают, которые могут повторяться для разных пассажиров)\n",
    "#         - другое (тип строковый, включающий как буквы, так и цифры; не является уникальным, так как несколько пассажиров могут жить в одной каюте)\n",
    "    Embarked - категориальный (три опции порта посадки (Cherbourg, Queenstown, Southampton), которые нельзя сравнить)\n",
    "    \n",
    "Задачи:\n",
    "    1. Задача регрессии: предсказать возраст пассажира на основе количества у него родственников на борту(братьев, сестер и мужей; родителей и детей) (трехмерное пространство) (целевая переменная: Age)\n",
    "                       : предсказать плату за билет пассажира на основе его возраста (двумерное пространство) или на основе всех признаков, кроме PassengerId, Name, Ticket (целевая перенная: Fare)\n",
    "                       \n",
    "    2. Задача классификации: отнести пассажира к классу билета на основе его возраста, стоимости билета и порта посадки (целевая переменная: Pclass)\n",
    "                           : отнести пассажира к выжившему/погибшему (целевая перенная: Survived)\n",
    "    3. Задача кластеризации: разделить пассажиров на клаcтеры (группы) на основе возраста, платы за билет и количества родителей и детей на борту\n",
    "                           : разделить пассажиров на кластеры (группы) на основе возраста и платы за билет\n",
    "                           : разделить пассажиров на кластеры на основе имеющихся данных (вряд ли стоит учитывать PassengerId, Name, Ticket)\n"
   ]
  },
  {
   "cell_type": "markdown",
   "metadata": {
    "id": "mLsF-mGNkQdm"
   },
   "source": [
    "### 13"
   ]
  },
  {
   "cell_type": "markdown",
   "metadata": {
    "id": "L6FD6v6SkQdn"
   },
   "source": [
    "Есть ли в данных пропуски? Если да, то в каких столбцах? Сколько пропусков в каждом из них?"
   ]
  },
  {
   "cell_type": "code",
   "execution_count": 117,
   "metadata": {
    "id": "ZxK78WHIkQdn"
   },
   "outputs": [
    {
     "data": {
      "text/plain": [
       "True"
      ]
     },
     "execution_count": 117,
     "metadata": {},
     "output_type": "execute_result"
    }
   ],
   "source": [
    "# Есть ли в данных пропуски\n",
    "\n",
    "pd.isnull(data).any().any()\n",
    "\n",
    "# Альтернативная запись: data.isnull().any().any()\n",
    "\n",
    "# Да"
   ]
  },
  {
   "cell_type": "code",
   "execution_count": 16,
   "metadata": {},
   "outputs": [
    {
     "data": {
      "text/plain": [
       "PassengerId      0\n",
       "Survived         0\n",
       "Pclass           0\n",
       "Name             0\n",
       "Sex              0\n",
       "Age            177\n",
       "SibSp            0\n",
       "Parch            0\n",
       "Ticket           0\n",
       "Fare             0\n",
       "Cabin          687\n",
       "Embarked         2\n",
       "dtype: int64"
      ]
     },
     "execution_count": 16,
     "metadata": {},
     "output_type": "execute_result"
    }
   ],
   "source": [
    "# В каких столбцах и сколько пропусков\n",
    "\n",
    "pd.isnull(data).sum()\n",
    "\n",
    "# Альтернативная запись: data.isnull().sum()\n",
    "\n",
    "# Age - 177 пропусков\n",
    "# Cabin - 687 пропусков\n",
    "# Embarked - 2 пропуска"
   ]
  },
  {
   "cell_type": "code",
   "execution_count": 144,
   "metadata": {},
   "outputs": [
    {
     "data": {
      "text/plain": [
       "Age         177\n",
       "Cabin       687\n",
       "Embarked      2\n",
       "dtype: int64"
      ]
     },
     "execution_count": 144,
     "metadata": {},
     "output_type": "execute_result"
    }
   ],
   "source": [
    "# Вывод только столбцов с пропусками\n",
    "\n",
    "data.isnull().sum()[data.isnull().sum() != 0]"
   ]
  },
  {
   "cell_type": "code",
   "execution_count": 164,
   "metadata": {},
   "outputs": [
    {
     "name": "stdout",
     "output_type": "stream",
     "text": [
      "Пропусков в столбце \"Age\": 177\n",
      "Пропусков в столбце \"Cabin\": 687\n",
      "Пропусков в столбце \"Embarked\": 2\n"
     ]
    }
   ],
   "source": [
    "print ('Пропусков в столбце \"Age\":', pd.isnull(data['Age']).sum())\n",
    "print ('Пропусков в столбце \"Cabin\":', pd.isnull(data['Cabin']).sum())\n",
    "print ('Пропусков в столбце \"Embarked\":', pd.isnull(data['Embarked']).sum())"
   ]
  },
  {
   "cell_type": "code",
   "execution_count": 137,
   "metadata": {},
   "outputs": [
    {
     "data": {
      "text/plain": [
       "0    549\n",
       "1    342\n",
       "Name: Survived, dtype: int64"
      ]
     },
     "execution_count": 137,
     "metadata": {},
     "output_type": "execute_result"
    }
   ],
   "source": [
    "# Проверка скрытых пропусков (например, \"unknown\") в некоторых столбцах (где данные повторяются и количество вариантов небольшое, чтобы было удобно смотреть)\n",
    "\n",
    "data['Survived'].value_counts()\n",
    "\n",
    "# Нет"
   ]
  },
  {
   "cell_type": "code",
   "execution_count": 130,
   "metadata": {},
   "outputs": [
    {
     "data": {
      "text/plain": [
       "3    491\n",
       "1    216\n",
       "2    184\n",
       "Name: Pclass, dtype: int64"
      ]
     },
     "execution_count": 130,
     "metadata": {},
     "output_type": "execute_result"
    }
   ],
   "source": [
    "data['Pclass'].value_counts()\n",
    "\n",
    "# Нет"
   ]
  },
  {
   "cell_type": "code",
   "execution_count": 131,
   "metadata": {},
   "outputs": [
    {
     "data": {
      "text/plain": [
       "male      577\n",
       "female    314\n",
       "Name: Sex, dtype: int64"
      ]
     },
     "execution_count": 131,
     "metadata": {},
     "output_type": "execute_result"
    }
   ],
   "source": [
    "data['Sex'].value_counts()\n",
    "\n",
    "# Нет"
   ]
  },
  {
   "cell_type": "code",
   "execution_count": 132,
   "metadata": {},
   "outputs": [
    {
     "data": {
      "text/plain": [
       "0    608\n",
       "1    209\n",
       "2     28\n",
       "4     18\n",
       "3     16\n",
       "8      7\n",
       "5      5\n",
       "Name: SibSp, dtype: int64"
      ]
     },
     "execution_count": 132,
     "metadata": {},
     "output_type": "execute_result"
    }
   ],
   "source": [
    "data['SibSp'].value_counts()\n",
    "\n",
    "# Нет"
   ]
  },
  {
   "cell_type": "code",
   "execution_count": 133,
   "metadata": {},
   "outputs": [
    {
     "data": {
      "text/plain": [
       "0    678\n",
       "1    118\n",
       "2     80\n",
       "5      5\n",
       "3      5\n",
       "4      4\n",
       "6      1\n",
       "Name: Parch, dtype: int64"
      ]
     },
     "execution_count": 133,
     "metadata": {},
     "output_type": "execute_result"
    }
   ],
   "source": [
    "data['Parch'].value_counts()\n",
    "\n",
    "# Нет"
   ]
  },
  {
   "cell_type": "code",
   "execution_count": 141,
   "metadata": {},
   "outputs": [
    {
     "data": {
      "text/plain": [
       "S    644\n",
       "C    168\n",
       "Q     77\n",
       "Name: Embarked, dtype: int64"
      ]
     },
     "execution_count": 141,
     "metadata": {},
     "output_type": "execute_result"
    }
   ],
   "source": [
    "data['Embarked'].value_counts()\n",
    "\n",
    "# Нет"
   ]
  },
  {
   "cell_type": "markdown",
   "metadata": {
    "id": "wM1QyIc9kQdn"
   },
   "source": [
    "### 14"
   ]
  },
  {
   "cell_type": "markdown",
   "metadata": {
    "id": "3PmXh7bUkQdn"
   },
   "source": [
    "Подумайте, как стоит заполнить пропуски в каждом столбце в зависимости от его типа, и сделайте это. Проверьте, что пропусков нигде не осталось."
   ]
  },
  {
   "cell_type": "code",
   "execution_count": 3,
   "metadata": {
    "id": "A8tqxy0WkQdn"
   },
   "outputs": [],
   "source": [
    "# Замена пропусков в столбце \"Age\" на медианное значение (28.0)\n",
    "\n",
    "data['Age'].fillna(data['Age'].median(), inplace=True)\n"
   ]
  },
  {
   "cell_type": "code",
   "execution_count": 4,
   "metadata": {},
   "outputs": [],
   "source": [
    "# Замена пропусков в столбце \"Cabin\" на \"Unknown\", так как слишком много пропусков (687), поэтому замена на самое частое значение исказит результаты анализа\n",
    "\n",
    "data['Cabin'].fillna('Unknown', inplace=True)"
   ]
  },
  {
   "cell_type": "code",
   "execution_count": 5,
   "metadata": {},
   "outputs": [],
   "source": [
    "# Замена пропусков в столбце \"Embarked\" на самое частое значение (\"S\"), так как пропуска всего 2\n",
    "\n",
    "data['Embarked'].fillna('S', inplace=True)\n",
    "\n",
    "# Альтернатива: data['Embarked'].fillna(data['Embarked'].value_counts().keys()[0], inplace=True)\n",
    "# Замена на data['Embarked'].value_counts().keys()[0], так как value_counts().keys() показывает названия встречающихся данных в столбце, отсортированных по убаванию частоты появления"
   ]
  },
  {
   "cell_type": "code",
   "execution_count": 6,
   "metadata": {},
   "outputs": [
    {
     "data": {
      "text/plain": [
       "False"
      ]
     },
     "execution_count": 6,
     "metadata": {},
     "output_type": "execute_result"
    }
   ],
   "source": [
    "# Проверка, что все пропуски заполнены\n",
    "\n",
    "pd.isnull(data).any().any()"
   ]
  },
  {
   "cell_type": "markdown",
   "metadata": {
    "id": "msl74Lg0kQdl"
   },
   "source": [
    "### 15"
   ]
  },
  {
   "cell_type": "markdown",
   "metadata": {
    "id": "J6I6z1XCkQdl"
   },
   "source": [
    "Какова доля выживших после крушения пассажиров? Какова доля мужчин и женщин среди выживших?"
   ]
  },
  {
   "cell_type": "code",
   "execution_count": 137,
   "metadata": {
    "id": "MbEkQU6FkQdl"
   },
   "outputs": [
    {
     "data": {
      "text/plain": [
       "0    0.616162\n",
       "1    0.383838\n",
       "Name: Survived, dtype: float64"
      ]
     },
     "execution_count": 137,
     "metadata": {},
     "output_type": "execute_result"
    }
   ],
   "source": [
    "# Доли погибших и выживших пассажиров\n",
    "\n",
    "data['Survived'].value_counts(normalize=True)"
   ]
  },
  {
   "cell_type": "code",
   "execution_count": 97,
   "metadata": {},
   "outputs": [
    {
     "name": "stdout",
     "output_type": "stream",
     "text": [
      "Доля выживших пассажиров: 0.3838383838383838\n"
     ]
    }
   ],
   "source": [
    "# Доля выживших пассажиров\n",
    "\n",
    "print('Доля выживших пассажиров:', data['Survived'].value_counts(normalize=True)[data['Survived'] == 1].tolist()[0])\n",
    "\n",
    "# Альтернатива: print('Доля выживших пассажиров:', data['Survived'].value_counts(normalize=True)[1])\n",
    "# Можно использовать индекс 1, так как по результатам предыдущего шага видно, что данный индекс у доли выживших"
   ]
  },
  {
   "cell_type": "code",
   "execution_count": 4,
   "metadata": {},
   "outputs": [
    {
     "data": {
      "text/plain": [
       "female    0.681287\n",
       "male      0.318713\n",
       "Name: Sex, dtype: float64"
      ]
     },
     "execution_count": 4,
     "metadata": {},
     "output_type": "execute_result"
    }
   ],
   "source": [
    "# Доли женщин и мужчин среди выживших пассажиров\n",
    "\n",
    "data['Sex'].where(data['Survived'] == 1).value_counts(normalize=True)\n",
    "\n",
    "# Доля женщин: 0.681287\n",
    "# Доля мужчин: 0.318713"
   ]
  },
  {
   "cell_type": "code",
   "execution_count": 171,
   "metadata": {},
   "outputs": [
    {
     "name": "stdout",
     "output_type": "stream",
     "text": [
      "Доля выживших мужчин: 0.31871345029239767\n",
      "Доля выживших женщин: 0.6812865497076024\n"
     ]
    }
   ],
   "source": [
    "print('Доля выживших мужчин:', data['Sex'].where(data['Survived'] == 1).value_counts(normalize=True).tolist()[1])\n",
    "print('Доля выживших женщин:', data['Sex'].where(data['Survived'] == 1).value_counts(normalize=True).tolist()[0])"
   ]
  },
  {
   "cell_type": "code",
   "execution_count": 175,
   "metadata": {},
   "outputs": [
    {
     "name": "stdout",
     "output_type": "stream",
     "text": [
      "Доля выживших мужчин: 0.31871345029239767\n",
      "Доля выживших женщин: 0.6812865497076024\n"
     ]
    }
   ],
   "source": [
    "# Также можно посчитать доли с помоью математической формулы\n",
    "\n",
    "print('Доля выживших мужчин:', data[(data['Sex'] == 'male') & (data['Survived'] == 1)]['Survived'].count()/data[data['Survived'] == 1]['Survived'].count())\n",
    "print('Доля выживших женщин:', data[(data['Sex'] == 'female') & (data['Survived'] == 1)]['Survived'].count()/data[data['Survived'] == 1]['Survived'].count())"
   ]
  },
  {
   "cell_type": "markdown",
   "metadata": {
    "id": "J-z4omGjkQdl"
   },
   "source": [
    "### 16"
   ]
  },
  {
   "cell_type": "markdown",
   "metadata": {
    "id": "VXXJjtA2kQdl"
   },
   "source": [
    "Сколько пассажиров ехало в каждом классе? Кого было больше в самом многолюдном классе — мужчин или женщин?"
   ]
  },
  {
   "cell_type": "code",
   "execution_count": 29,
   "metadata": {
    "id": "LVxR-_SWkQdm"
   },
   "outputs": [
    {
     "data": {
      "text/plain": [
       "3    491\n",
       "1    216\n",
       "2    184\n",
       "Name: Pclass, dtype: int64"
      ]
     },
     "execution_count": 29,
     "metadata": {},
     "output_type": "execute_result"
    }
   ],
   "source": [
    "# Сколько пассажиров ехало в каждом классе\n",
    "\n",
    "data['Pclass'].value_counts()\n",
    "\n",
    "# 1 класс - 216 пассажиров\n",
    "# 2 класс - 184 пассажиров\n",
    "# 3 класс - 491 пассажиров"
   ]
  },
  {
   "cell_type": "code",
   "execution_count": 157,
   "metadata": {},
   "outputs": [
    {
     "name": "stdout",
     "output_type": "stream",
     "text": [
      "Количество пассажиров в 1 классе: 216\n",
      "Количество пассажиров во 2 классе: 184\n",
      "Количество пассажиров в 3 классе: 491\n"
     ]
    }
   ],
   "source": [
    "print('Количество пассажиров в 1 классе:', data['Pclass'].value_counts()[data['Pclass'].value_counts().keys() == 1].tolist()[0])\n",
    "print('Количество пассажиров во 2 классе:', data['Pclass'].value_counts()[data['Pclass'].value_counts().keys() == 2].tolist()[0])\n",
    "print('Количество пассажиров в 3 классе:', data['Pclass'].value_counts()[data['Pclass'].value_counts().keys() == 3].tolist()[0])"
   ]
  },
  {
   "cell_type": "code",
   "execution_count": 57,
   "metadata": {},
   "outputs": [
    {
     "data": {
      "text/plain": [
       "male      347\n",
       "female    144\n",
       "Name: Sex, dtype: int64"
      ]
     },
     "execution_count": 57,
     "metadata": {},
     "output_type": "execute_result"
    }
   ],
   "source": [
    "# Кого было больше в самом многолюдном классе\n",
    "\n",
    "data[data['Pclass'] == data['Pclass'].value_counts().keys()[0]]['Sex'].value_counts()\n",
    "\n",
    "# Мужчин (347)"
   ]
  },
  {
   "cell_type": "code",
   "execution_count": 60,
   "metadata": {},
   "outputs": [
    {
     "data": {
      "text/plain": [
       "'male'"
      ]
     },
     "execution_count": 60,
     "metadata": {},
     "output_type": "execute_result"
    }
   ],
   "source": [
    "# Вывод только пола\n",
    "\n",
    "data[data['Pclass'] == data['Pclass'].value_counts().keys()[0]]['Sex'].value_counts().keys()[0]\n",
    "\n",
    "# Альтернатива (для удобного чтения): data['Pclass'] == data['Pclass'].value_counts().keys()[0] можно заменить переменной\n",
    "# max_pclass = data['Pclass'] == data['Pclass'].value_counts().keys()[0]\n",
    "# data[max_pclass]['Sex'].value_counts().keys()[0]\n",
    "\n",
    "# Альтернатива: можно использовать функцию idxmax()\n",
    "# data[data['Pclass'] == data['Pclass'].value_counts().idxmax()]['Sex'].value_counts().idxmax()"
   ]
  },
  {
   "cell_type": "markdown",
   "metadata": {
    "id": "vFgb0XUXkQdm"
   },
   "source": [
    "### 17"
   ]
  },
  {
   "cell_type": "markdown",
   "metadata": {
    "id": "2vBKRhfmkQdm"
   },
   "source": [
    "Выведите минимальную, среднюю и максимальную сумму, которую заплатили пассажиры за проезд. Проделайте то же самое только для тех пассажиров, которые сели на корабль в Саутгемптоне. Выведите гистограммы, показывающие распределения стоимостей билетов в зависимости от места посадки."
   ]
  },
  {
   "cell_type": "code",
   "execution_count": 129,
   "metadata": {},
   "outputs": [
    {
     "data": {
      "text/plain": [
       "min       0.000000\n",
       "mean     32.204208\n",
       "max     512.329200\n",
       "Name: Fare, dtype: float64"
      ]
     },
     "execution_count": 129,
     "metadata": {},
     "output_type": "execute_result"
    }
   ],
   "source": [
    "# Минимальная, средняя и максимальная сумма, которую заплатили пассажиры за проезд\n",
    "\n",
    "data[\"Fare\"].describe()[[\"min\", \"mean\", \"max\"]]"
   ]
  },
  {
   "cell_type": "code",
   "execution_count": 160,
   "metadata": {
    "id": "mNqccEQ6kQdm"
   },
   "outputs": [
    {
     "name": "stdout",
     "output_type": "stream",
     "text": [
      "Минимальная сумма, которую пассажиры заплатили за проезд: 0.0\n",
      "Средняя сумма, которую пассажиры заплатили за проезд: 32.2042079685746\n",
      "Максимальная сумма, которую пассажиры заплатили за проезд: 512.3292\n"
     ]
    }
   ],
   "source": [
    "print('Минимальная сумма, которую пассажиры заплатили за проезд:', data['Fare'].min())\n",
    "print('Средняя сумма, которую пассажиры заплатили за проезд:', data['Fare'].mean())\n",
    "print('Максимальная сумма, которую пассажиры заплатили за проезд:', data['Fare'].max())"
   ]
  },
  {
   "cell_type": "code",
   "execution_count": 127,
   "metadata": {},
   "outputs": [
    {
     "data": {
      "text/plain": [
       "14.4542"
      ]
     },
     "execution_count": 127,
     "metadata": {},
     "output_type": "execute_result"
    }
   ],
   "source": [
    "# Также можно найти медианное значение платы за проезд\n",
    "\n",
    "data['Fare'].median()"
   ]
  },
  {
   "cell_type": "code",
   "execution_count": 22,
   "metadata": {},
   "outputs": [
    {
     "data": {
      "text/plain": [
       "min       0.000000\n",
       "mean     27.243651\n",
       "max     263.000000\n",
       "Name: Fare, dtype: float64"
      ]
     },
     "execution_count": 22,
     "metadata": {},
     "output_type": "execute_result"
    }
   ],
   "source": [
    "# Минимальная, средняя и максимальная сумма, которую заплатили за проезд пассажиры, севшие на корабль в Саутгемптоне\n",
    "\n",
    "data[\"Fare\"].where(data['Embarked'] == 'S').describe()[[\"min\", \"mean\", \"max\"]]"
   ]
  },
  {
   "cell_type": "code",
   "execution_count": 161,
   "metadata": {},
   "outputs": [
    {
     "name": "stdout",
     "output_type": "stream",
     "text": [
      "Минимальная сумма, которую пассажиры заплатили за проезд из Саутгемптона: 0.0\n",
      "Средняя сумма, которую пассажиры заплатили за проезд из Саутгемптона: 27.243651393188795\n",
      "Максимальная сумма, которую пассажиры заплатили за проезд из Саутгемптона: 263.0\n"
     ]
    }
   ],
   "source": [
    "print('Минимальная сумма, которую пассажиры заплатили за проезд из Саутгемптона:', data['Fare'].where(data['Embarked'] == 'S').min())\n",
    "print('Средняя сумма, которую пассажиры заплатили за проезд из Саутгемптона:', data['Fare'].where(data['Embarked'] == 'S').mean())\n",
    "print('Максимальная сумма, которую пассажиры заплатили за проезд из Саутгемптона:', data['Fare'].where(data['Embarked'] == 'S').max())"
   ]
  },
  {
   "cell_type": "code",
   "execution_count": 119,
   "metadata": {},
   "outputs": [
    {
     "data": {
      "text/plain": [
       "13.0"
      ]
     },
     "execution_count": 119,
     "metadata": {},
     "output_type": "execute_result"
    }
   ],
   "source": [
    "# Также можно найти медианное значение платы за проезд из Саутгемптона\n",
    "\n",
    "data['Fare'].where(data['Embarked'] == 'S').median()"
   ]
  },
  {
   "cell_type": "code",
   "execution_count": 226,
   "metadata": {},
   "outputs": [
    {
     "data": {
      "image/png": "[encoded data removed]",
      "text/plain": [
       "<Figure size 720x504 with 1 Axes>"
      ]
     },
     "metadata": {
      "needs_background": "light"
     },
     "output_type": "display_data"
    }
   ],
   "source": [
    "# Гистограмма, показывающая распределение стоимостей билетов при посадке в \"Cherbourg\"\n",
    "\n",
    "plt.figure(figsize=(10,7))\n",
    "plt.title('Распределение стоимостей билетов при посадке в порту \"Cherbourg\"')\n",
    "plt.hist(data[data['Embarked'] == 'C']['Fare'], bins=30)\n",
    "plt.xlabel('Стоимость билета')\n",
    "plt.ylabel('Количество пассажиров')\n",
    "plt.legend(['Cherbourg'])\n",
    "plt.show()"
   ]
  },
  {
   "cell_type": "code",
   "execution_count": 227,
   "metadata": {},
   "outputs": [
    {
     "data": {
      "image/png": "[encoded data removed]",
      "text/plain": [
       "<Figure size 504x504 with 1 Axes>"
      ]
     },
     "metadata": {
      "needs_background": "light"
     },
     "output_type": "display_data"
    }
   ],
   "source": [
    "# Гистограмма, показывающая распределение стоимостей билетов при посадке в \"Queenstown\"\n",
    "\n",
    "plt.figure(figsize=(7,7))\n",
    "plt.title('Распределение стоимостей билетов при посадке в порту \"Queenstown\"')\n",
    "plt.hist(data[data['Embarked'] == 'Q']['Fare'], bins=20)\n",
    "plt.xlabel('Стоимость билета')\n",
    "plt.ylabel('Количество пассажиров')\n",
    "plt.legend(['Queenstown'])\n",
    "plt.show()"
   ]
  },
  {
   "cell_type": "code",
   "execution_count": 229,
   "metadata": {},
   "outputs": [
    {
     "data": {
      "image/png": "[encoded data removed]",
      "text/plain": [
       "<Figure size 720x504 with 1 Axes>"
      ]
     },
     "metadata": {
      "needs_background": "light"
     },
     "output_type": "display_data"
    }
   ],
   "source": [
    "# Гистограмма, показывающая распределение стоимостей билетов при посадке в \"Southampton\"\n",
    "\n",
    "plt.figure(figsize=(10,7))\n",
    "plt.title('Распределение стоимостей билетов при посадке в порту \"Southampton\"')\n",
    "plt.hist(data[data['Embarked'] == 'S']['Fare'], bins=30)\n",
    "plt.xlabel('Стоимость билета')\n",
    "plt.ylabel('Количество пассажиров')\n",
    "plt.legend(['Southampton'])\n",
    "plt.show()"
   ]
  },
  {
   "cell_type": "code",
   "execution_count": null,
   "metadata": {},
   "outputs": [],
   "source": [
    "# Большая часть пассажиров купила более дешевые билеты"
   ]
  },
  {
   "cell_type": "code",
   "execution_count": 252,
   "metadata": {},
   "outputs": [
    {
     "data": {
      "image/png": "[encoded data removed]",
      "text/plain": [
       "<Figure size 1440x720 with 1 Axes>"
      ]
     },
     "metadata": {
      "needs_background": "light"
     },
     "output_type": "display_data"
    }
   ],
   "source": [
    "# Объединенные гистограммы\n",
    "\n",
    "\n",
    "plt.figure(figsize=(20,10))\n",
    "plt.title('Распределение стоимостей билетов при посадке в разных портах')\n",
    "plt.hist(data[data['Embarked'] == 'C']['Fare'], bins=30)\n",
    "plt.hist(data[data['Embarked'] == 'Q']['Fare'], bins=30)\n",
    "plt.hist(data[data['Embarked'] == 'S']['Fare'], bins=30)\n",
    "plt.xlabel('Стоимость билета')\n",
    "plt.ylabel('Количество пассажиров')\n",
    "plt.legend(['Cherbourg', 'Queenstown', 'Southampton'])\n",
    "plt.show()"
   ]
  },
  {
   "cell_type": "markdown",
   "metadata": {
    "id": "HwEq28TAkQdm"
   },
   "source": [
    "### 18"
   ]
  },
  {
   "cell_type": "markdown",
   "metadata": {
    "id": "qcfvmzEIkQdm"
   },
   "source": [
    "Все ли признаки несут в себе полезную информацию? Почему? Избавьтесь от ненужных столбцов."
   ]
  },
  {
   "cell_type": "code",
   "execution_count": null,
   "metadata": {
    "collapsed": true,
    "id": "CR5hTjO8kQdm"
   },
   "outputs": [],
   "source": [
    "# Данный пункт нужно выполнять после 22 номера, так как для анализа я использую не очень полезные признаки (чтобы сделать задачи более сложными и отличными от тех, которые нам предлагается решить)\n",
    "# Ниже написан код, который не надо запускать! После 22 номера данный код с объяснениями продублирован и готов к запуску\n",
    "\n",
    "# PassengerId не несет полезную информацию для анализа, однако является уникальным номером пассажиров и может быть использован для их идентификации (оставлен как технический столбец)\n",
    "# Name содержит имена пассажиров, которые не важны для анализа и статистики, а для идентификации пассажиров можно использовать их номера, которые точно уникальны, в отличие от имен\n",
    "# Ticket содержит номера билетов пассажиров, которые не полезны для проведения анализа (так же их слишком много, хоть они и могут повторяться)\n",
    "# Cabin является категориальным признаком и мог бы быть полезным для анализа, однако имеет слишком много опций и пропусков (687 из 891 строк), поэтому результаты его анализа будут искаженными\n",
    "\n",
    "# data = data.drop(columns=['Name', 'Ticket', 'Cabin'])\n",
    "# data"
   ]
  },
  {
   "cell_type": "markdown",
   "metadata": {
    "id": "tXpxFu_2kQdn"
   },
   "source": [
    "### 19"
   ]
  },
  {
   "cell_type": "markdown",
   "metadata": {
    "id": "3d8kd-9ykQdn"
   },
   "source": [
    "Посчитайте, насколько сильно коррелируют друг с другом цена за билет и возраст пассажиров. Также проверьте наличие этой зависимости визуально (в этом вам поможет построение [диаграммы рассеяния](https://ru.wikipedia.org/wiki/%D0%94%D0%B8%D0%B0%D0%B3%D1%80%D0%B0%D0%BC%D0%BC%D0%B0_%D1%80%D0%B0%D1%81%D1%81%D0%B5%D1%8F%D0%BD%D0%B8%D1%8F)). Разметьте на этой диаграме выживших пассажиров зеленым цветом, а не выживших - красным."
   ]
  },
  {
   "cell_type": "code",
   "execution_count": 304,
   "metadata": {
    "id": "YKa-uZ4OkQdn"
   },
   "outputs": [
    {
     "name": "stdout",
     "output_type": "stream",
     "text": [
      "Корреляция цены за билет и возраста пассажиров: 0.09668842218036486\n"
     ]
    }
   ],
   "source": [
    "# Насколько сильно коррелируют друг с другом цена за билет и возраст пассажиров\n",
    "\n",
    "print('Корреляция цены за билет и возраста пассажиров:', data['Fare'].corr(data['Age']))\n",
    "\n",
    "# Несильно, положительно"
   ]
  },
  {
   "cell_type": "code",
   "execution_count": 314,
   "metadata": {},
   "outputs": [
    {
     "data": {
      "image/png": "[encoded data removed]",
      "text/plain": [
       "<Figure size 720x360 with 1 Axes>"
      ]
     },
     "metadata": {
      "needs_background": "light"
     },
     "output_type": "display_data"
    }
   ],
   "source": [
    "plt.figure(figsize=(10,5))\n",
    "plt.title('Зависимость цены за билет от возраста пассажиров')\n",
    "plt.scatter(data[data['Survived'] == 1]['Age'], data[data['Survived'] == 1]['Fare'], color='green')\n",
    "plt.scatter(data[data['Survived'] == 0]['Age'], data[data['Survived'] == 0]['Fare'], color='red')\n",
    "plt.xlabel('Возраст пассажиров')\n",
    "plt.ylabel('Цена за билет')\n",
    "plt.legend(['Survived', 'Not survived'])\n",
    "plt.show()"
   ]
  },
  {
   "cell_type": "markdown",
   "metadata": {
    "id": "g-DChIQikQdn"
   },
   "source": [
    "### 20"
   ]
  },
  {
   "cell_type": "markdown",
   "metadata": {
    "id": "gx3f6lWwkQdo"
   },
   "source": [
    "Правда ли, что чаще выживали пассажиры с более дорогими билетами? А есть ли зависимость выживаемости от класса?"
   ]
  },
  {
   "cell_type": "code",
   "execution_count": 335,
   "metadata": {
    "id": "iUN-jqzgkQdo"
   },
   "outputs": [
    {
     "name": "stdout",
     "output_type": "stream",
     "text": [
      "Корреляция выживаемости пассажиров и цены за билет: 0.2573065223849623\n"
     ]
    }
   ],
   "source": [
    "# Зависимость выживаемости пассажиров от цены билета\n",
    "\n",
    "print('Корреляция выживаемости пассажиров и цены за билет:', data['Survived'].corr(data['Fare']))\n",
    "\n",
    "# Взаимосвязь есть, так как корреляция не равно 0\n",
    "# Положительная корреляция показывает, что чем дороже билеты, тем чаще выживали пассажиры"
   ]
  },
  {
   "cell_type": "code",
   "execution_count": 332,
   "metadata": {},
   "outputs": [
    {
     "name": "stdout",
     "output_type": "stream",
     "text": [
      "Средняя цена за билет погибших пассажиров: 22.117886885245877\n",
      "Средняя цена за билет выживших пассажиров: 48.39540760233917\n"
     ]
    }
   ],
   "source": [
    "# Средняя цена за билет погибших и выживших пассажиров показывает связь цены за билет и выживаемости\n",
    "\n",
    "print ('Средняя цена за билет погибших пассажиров:', data[data['Survived'] == 0]['Fare'].mean())\n",
    "print ('Средняя цена за билет выживших пассажиров:', data[data['Survived'] == 1]['Fare'].mean())\n",
    "\n",
    "# Связь есть: цена за билет погибших пассажиров примерно в 2 раза меньше, чем выживших"
   ]
  },
  {
   "cell_type": "code",
   "execution_count": 336,
   "metadata": {},
   "outputs": [
    {
     "name": "stdout",
     "output_type": "stream",
     "text": [
      "Корреляция выживаемости пассажиров и класса билета: -0.338481035961015\n"
     ]
    }
   ],
   "source": [
    "# Зависимость выживаемости пассажиров от класса\n",
    "\n",
    "print('Корреляция выживаемости пассажиров и класса билета:', data['Survived'].corr(data['Pclass']))\n",
    "\n",
    "# Взаимосвязь есть, но отрицательная (чем больше номер класса, тем меньше выживших)"
   ]
  },
  {
   "cell_type": "code",
   "execution_count": 50,
   "metadata": {},
   "outputs": [
    {
     "data": {
      "image/png": "[encoded data removed]",
      "text/plain": [
       "<Figure size 504x504 with 1 Axes>"
      ]
     },
     "metadata": {
      "needs_background": "light"
     },
     "output_type": "display_data"
    }
   ],
   "source": [
    "# Диаграмма зависимости выживаемости пассажиров от класса билета\n",
    "# 1 - 1 класс, 2 - 2 класс, 3 - 3 класс\n",
    "\n",
    "plt.figure(figsize=(7,7))\n",
    "plt.title('Зависимость выживаемости пассажиров от класса билета')\n",
    "plt.hist(data['Pclass'][data['Survived'] == 1], bins=5)\n",
    "plt.xlabel('Класс билета')\n",
    "plt.ylabel('Количество пассажиров')\n",
    "plt.legend(['Выжившие'])\n",
    "plt.show()\n",
    "\n",
    "# Больше всего выживших из 1 класса"
   ]
  },
  {
   "cell_type": "code",
   "execution_count": 51,
   "metadata": {},
   "outputs": [
    {
     "data": {
      "image/png": "[encoded data removed]",
      "text/plain": [
       "<Figure size 504x504 with 1 Axes>"
      ]
     },
     "metadata": {
      "needs_background": "light"
     },
     "output_type": "display_data"
    }
   ],
   "source": [
    "# Диаграмма зависимости смертности пассажиров от класса билета\n",
    "# 1 - 1 класс, 2 - 2 класс, 3 - 3 класс\n",
    "\n",
    "plt.figure(figsize=(7,7))\n",
    "plt.title('Зависимость смертности пассажиров от класса билета')\n",
    "plt.hist(data['Pclass'][data['Survived'] == 0], bins=5)\n",
    "plt.xlabel('Класс билета')\n",
    "plt.ylabel('Количество пассажиров')\n",
    "plt.legend(['Погибшие'])\n",
    "plt.show()\n",
    "\n",
    "# Больше всего погибших из 3 класса, причем разница значительная"
   ]
  },
  {
   "cell_type": "code",
   "execution_count": 120,
   "metadata": {},
   "outputs": [
    {
     "data": {
      "image/png": "[encoded data removed]",
      "text/plain": [
       "<Figure size 720x504 with 1 Axes>"
      ]
     },
     "metadata": {
      "needs_background": "light"
     },
     "output_type": "display_data"
    }
   ],
   "source": [
    "# График зависимости выживаемости и смертности пассажиров от класса билетов\n",
    "\n",
    "df = data.groupby(['Pclass', 'Survived'])['Pclass'].aggregate('count').unstack().plot.bar(rot=0, figsize=(10,7), color=['red', 'green'])\n",
    "plt.title(\"Зависимость выживаемости и смертности пассажиров от класса билетов\")\n",
    "plt.xlabel(\"Класс билета\")\n",
    "plt.ylabel(\"Количество пассажиров\")\n",
    "plt.legend(['Not survived', 'Survived'])\n",
    "plt.show()\n",
    "\n",
    "# В первом классе больше выживших, а в тетьем - погибших, при этом во втором разница между выжившими и пошибшими маленькая"
   ]
  },
  {
   "cell_type": "markdown",
   "metadata": {
    "id": "QiUdAx63kQdo"
   },
   "source": [
    "### 21"
   ]
  },
  {
   "cell_type": "markdown",
   "metadata": {
    "id": "tARBQxr8kQdo"
   },
   "source": [
    "Создание новых признаков (feature engineering) является одним из основных средств улучшения качества работы алгоритмов машинного обучения на этапе обработки данных. Добавьте в таблицу столбец, который будет показывать, сколько родных плыло вместе с пассажиром на корабле, включая его самого. Затем придумайте свой признак, который может быть полезен для алгоритма (несет в себе какую-то информацию), и добавьте его в таблицу."
   ]
  },
  {
   "cell_type": "code",
   "execution_count": 7,
   "metadata": {
    "id": "r6DzYMHpkQdo"
   },
   "outputs": [],
   "source": [
    "# Добавление столбца, показывающего количество его родных на корабле и его самого\n",
    "\n",
    "data['Family'] = data['SibSp'] + data['Parch'] + 1"
   ]
  },
  {
   "cell_type": "code",
   "execution_count": 8,
   "metadata": {},
   "outputs": [],
   "source": [
    "# Добавление столбца с бинарным признаком (1 - большая семья (на борту), 0 - нет)\n",
    "# Данный признак может быть полезен для статистики погибших и выживших семей\n",
    "\n",
    "data['HasBigFamily'] = (data['Family'] > 3).astype(int)"
   ]
  },
  {
   "cell_type": "code",
   "execution_count": 9,
   "metadata": {},
   "outputs": [],
   "source": [
    "# Добавление столбца с бинарным признаком (1 - совершеннолетний, 0 - нет)\n",
    "# Данный стоолбец может быть полезен для анализа, так как в статистике часто разделяют взрослых и детей\n",
    "\n",
    "data['IsAdult'] = (data['Age'] >= 18).astype(int)"
   ]
  },
  {
   "cell_type": "code",
   "execution_count": 139,
   "metadata": {},
   "outputs": [
    {
     "data": {
      "text/html": [
       "<div>\n",
       "<style scoped>\n",
       "    .dataframe tbody tr th:only-of-type {\n",
       "        vertical-align: middle;\n",
       "    }\n",
       "\n",
       "    .dataframe tbody tr th {\n",
       "        vertical-align: top;\n",
       "    }\n",
       "\n",
       "    .dataframe thead th {\n",
       "        text-align: right;\n",
       "    }\n",
       "</style>\n",
       "<table border=\"1\" class=\"dataframe\">\n",
       "  <thead>\n",
       "    <tr style=\"text-align: right;\">\n",
       "      <th></th>\n",
       "      <th>PassengerId</th>\n",
       "      <th>Survived</th>\n",
       "      <th>Pclass</th>\n",
       "      <th>Name</th>\n",
       "      <th>Sex</th>\n",
       "      <th>Age</th>\n",
       "      <th>SibSp</th>\n",
       "      <th>Parch</th>\n",
       "      <th>Ticket</th>\n",
       "      <th>Fare</th>\n",
       "      <th>Cabin</th>\n",
       "      <th>Embarked</th>\n",
       "      <th>Family</th>\n",
       "      <th>HasBigFamily</th>\n",
       "      <th>IsAdult</th>\n",
       "    </tr>\n",
       "  </thead>\n",
       "  <tbody>\n",
       "    <tr>\n",
       "      <th>0</th>\n",
       "      <td>1</td>\n",
       "      <td>0</td>\n",
       "      <td>3</td>\n",
       "      <td>Braund, Mr. Owen Harris</td>\n",
       "      <td>male</td>\n",
       "      <td>22.0</td>\n",
       "      <td>1</td>\n",
       "      <td>0</td>\n",
       "      <td>A/5 21171</td>\n",
       "      <td>7.2500</td>\n",
       "      <td>Unknown</td>\n",
       "      <td>S</td>\n",
       "      <td>2</td>\n",
       "      <td>0</td>\n",
       "      <td>1</td>\n",
       "    </tr>\n",
       "    <tr>\n",
       "      <th>1</th>\n",
       "      <td>2</td>\n",
       "      <td>1</td>\n",
       "      <td>1</td>\n",
       "      <td>Cumings, Mrs. John Bradley (Florence Briggs Th...</td>\n",
       "      <td>female</td>\n",
       "      <td>38.0</td>\n",
       "      <td>1</td>\n",
       "      <td>0</td>\n",
       "      <td>PC 17599</td>\n",
       "      <td>71.2833</td>\n",
       "      <td>C85</td>\n",
       "      <td>C</td>\n",
       "      <td>2</td>\n",
       "      <td>0</td>\n",
       "      <td>1</td>\n",
       "    </tr>\n",
       "    <tr>\n",
       "      <th>2</th>\n",
       "      <td>3</td>\n",
       "      <td>1</td>\n",
       "      <td>3</td>\n",
       "      <td>Heikkinen, Miss. Laina</td>\n",
       "      <td>female</td>\n",
       "      <td>26.0</td>\n",
       "      <td>0</td>\n",
       "      <td>0</td>\n",
       "      <td>STON/O2. 3101282</td>\n",
       "      <td>7.9250</td>\n",
       "      <td>Unknown</td>\n",
       "      <td>S</td>\n",
       "      <td>1</td>\n",
       "      <td>0</td>\n",
       "      <td>1</td>\n",
       "    </tr>\n",
       "    <tr>\n",
       "      <th>3</th>\n",
       "      <td>4</td>\n",
       "      <td>1</td>\n",
       "      <td>1</td>\n",
       "      <td>Futrelle, Mrs. Jacques Heath (Lily May Peel)</td>\n",
       "      <td>female</td>\n",
       "      <td>35.0</td>\n",
       "      <td>1</td>\n",
       "      <td>0</td>\n",
       "      <td>113803</td>\n",
       "      <td>53.1000</td>\n",
       "      <td>C123</td>\n",
       "      <td>S</td>\n",
       "      <td>2</td>\n",
       "      <td>0</td>\n",
       "      <td>1</td>\n",
       "    </tr>\n",
       "    <tr>\n",
       "      <th>4</th>\n",
       "      <td>5</td>\n",
       "      <td>0</td>\n",
       "      <td>3</td>\n",
       "      <td>Allen, Mr. William Henry</td>\n",
       "      <td>male</td>\n",
       "      <td>35.0</td>\n",
       "      <td>0</td>\n",
       "      <td>0</td>\n",
       "      <td>373450</td>\n",
       "      <td>8.0500</td>\n",
       "      <td>Unknown</td>\n",
       "      <td>S</td>\n",
       "      <td>1</td>\n",
       "      <td>0</td>\n",
       "      <td>1</td>\n",
       "    </tr>\n",
       "    <tr>\n",
       "      <th>5</th>\n",
       "      <td>6</td>\n",
       "      <td>0</td>\n",
       "      <td>3</td>\n",
       "      <td>Moran, Mr. James</td>\n",
       "      <td>male</td>\n",
       "      <td>28.0</td>\n",
       "      <td>0</td>\n",
       "      <td>0</td>\n",
       "      <td>330877</td>\n",
       "      <td>8.4583</td>\n",
       "      <td>Unknown</td>\n",
       "      <td>Q</td>\n",
       "      <td>1</td>\n",
       "      <td>0</td>\n",
       "      <td>1</td>\n",
       "    </tr>\n",
       "    <tr>\n",
       "      <th>6</th>\n",
       "      <td>7</td>\n",
       "      <td>0</td>\n",
       "      <td>1</td>\n",
       "      <td>McCarthy, Mr. Timothy J</td>\n",
       "      <td>male</td>\n",
       "      <td>54.0</td>\n",
       "      <td>0</td>\n",
       "      <td>0</td>\n",
       "      <td>17463</td>\n",
       "      <td>51.8625</td>\n",
       "      <td>E46</td>\n",
       "      <td>S</td>\n",
       "      <td>1</td>\n",
       "      <td>0</td>\n",
       "      <td>1</td>\n",
       "    </tr>\n",
       "    <tr>\n",
       "      <th>7</th>\n",
       "      <td>8</td>\n",
       "      <td>0</td>\n",
       "      <td>3</td>\n",
       "      <td>Palsson, Master. Gosta Leonard</td>\n",
       "      <td>male</td>\n",
       "      <td>2.0</td>\n",
       "      <td>3</td>\n",
       "      <td>1</td>\n",
       "      <td>349909</td>\n",
       "      <td>21.0750</td>\n",
       "      <td>Unknown</td>\n",
       "      <td>S</td>\n",
       "      <td>5</td>\n",
       "      <td>1</td>\n",
       "      <td>0</td>\n",
       "    </tr>\n",
       "    <tr>\n",
       "      <th>8</th>\n",
       "      <td>9</td>\n",
       "      <td>1</td>\n",
       "      <td>3</td>\n",
       "      <td>Johnson, Mrs. Oscar W (Elisabeth Vilhelmina Berg)</td>\n",
       "      <td>female</td>\n",
       "      <td>27.0</td>\n",
       "      <td>0</td>\n",
       "      <td>2</td>\n",
       "      <td>347742</td>\n",
       "      <td>11.1333</td>\n",
       "      <td>Unknown</td>\n",
       "      <td>S</td>\n",
       "      <td>3</td>\n",
       "      <td>0</td>\n",
       "      <td>1</td>\n",
       "    </tr>\n",
       "    <tr>\n",
       "      <th>9</th>\n",
       "      <td>10</td>\n",
       "      <td>1</td>\n",
       "      <td>2</td>\n",
       "      <td>Nasser, Mrs. Nicholas (Adele Achem)</td>\n",
       "      <td>female</td>\n",
       "      <td>14.0</td>\n",
       "      <td>1</td>\n",
       "      <td>0</td>\n",
       "      <td>237736</td>\n",
       "      <td>30.0708</td>\n",
       "      <td>Unknown</td>\n",
       "      <td>C</td>\n",
       "      <td>2</td>\n",
       "      <td>0</td>\n",
       "      <td>0</td>\n",
       "    </tr>\n",
       "    <tr>\n",
       "      <th>10</th>\n",
       "      <td>11</td>\n",
       "      <td>1</td>\n",
       "      <td>3</td>\n",
       "      <td>Sandstrom, Miss. Marguerite Rut</td>\n",
       "      <td>female</td>\n",
       "      <td>4.0</td>\n",
       "      <td>1</td>\n",
       "      <td>1</td>\n",
       "      <td>PP 9549</td>\n",
       "      <td>16.7000</td>\n",
       "      <td>G6</td>\n",
       "      <td>S</td>\n",
       "      <td>3</td>\n",
       "      <td>0</td>\n",
       "      <td>0</td>\n",
       "    </tr>\n",
       "    <tr>\n",
       "      <th>11</th>\n",
       "      <td>12</td>\n",
       "      <td>1</td>\n",
       "      <td>1</td>\n",
       "      <td>Bonnell, Miss. Elizabeth</td>\n",
       "      <td>female</td>\n",
       "      <td>58.0</td>\n",
       "      <td>0</td>\n",
       "      <td>0</td>\n",
       "      <td>113783</td>\n",
       "      <td>26.5500</td>\n",
       "      <td>C103</td>\n",
       "      <td>S</td>\n",
       "      <td>1</td>\n",
       "      <td>0</td>\n",
       "      <td>1</td>\n",
       "    </tr>\n",
       "    <tr>\n",
       "      <th>12</th>\n",
       "      <td>13</td>\n",
       "      <td>0</td>\n",
       "      <td>3</td>\n",
       "      <td>Saundercock, Mr. William Henry</td>\n",
       "      <td>male</td>\n",
       "      <td>20.0</td>\n",
       "      <td>0</td>\n",
       "      <td>0</td>\n",
       "      <td>A/5. 2151</td>\n",
       "      <td>8.0500</td>\n",
       "      <td>Unknown</td>\n",
       "      <td>S</td>\n",
       "      <td>1</td>\n",
       "      <td>0</td>\n",
       "      <td>1</td>\n",
       "    </tr>\n",
       "    <tr>\n",
       "      <th>13</th>\n",
       "      <td>14</td>\n",
       "      <td>0</td>\n",
       "      <td>3</td>\n",
       "      <td>Andersson, Mr. Anders Johan</td>\n",
       "      <td>male</td>\n",
       "      <td>39.0</td>\n",
       "      <td>1</td>\n",
       "      <td>5</td>\n",
       "      <td>347082</td>\n",
       "      <td>31.2750</td>\n",
       "      <td>Unknown</td>\n",
       "      <td>S</td>\n",
       "      <td>7</td>\n",
       "      <td>1</td>\n",
       "      <td>1</td>\n",
       "    </tr>\n",
       "    <tr>\n",
       "      <th>14</th>\n",
       "      <td>15</td>\n",
       "      <td>0</td>\n",
       "      <td>3</td>\n",
       "      <td>Vestrom, Miss. Hulda Amanda Adolfina</td>\n",
       "      <td>female</td>\n",
       "      <td>14.0</td>\n",
       "      <td>0</td>\n",
       "      <td>0</td>\n",
       "      <td>350406</td>\n",
       "      <td>7.8542</td>\n",
       "      <td>Unknown</td>\n",
       "      <td>S</td>\n",
       "      <td>1</td>\n",
       "      <td>0</td>\n",
       "      <td>0</td>\n",
       "    </tr>\n",
       "  </tbody>\n",
       "</table>\n",
       "</div>"
      ],
      "text/plain": [
       "    PassengerId  Survived  Pclass  \\\n",
       "0             1         0       3   \n",
       "1             2         1       1   \n",
       "2             3         1       3   \n",
       "3             4         1       1   \n",
       "4             5         0       3   \n",
       "5             6         0       3   \n",
       "6             7         0       1   \n",
       "7             8         0       3   \n",
       "8             9         1       3   \n",
       "9            10         1       2   \n",
       "10           11         1       3   \n",
       "11           12         1       1   \n",
       "12           13         0       3   \n",
       "13           14         0       3   \n",
       "14           15         0       3   \n",
       "\n",
       "                                                 Name     Sex   Age  SibSp  \\\n",
       "0                             Braund, Mr. Owen Harris    male  22.0      1   \n",
       "1   Cumings, Mrs. John Bradley (Florence Briggs Th...  female  38.0      1   \n",
       "2                              Heikkinen, Miss. Laina  female  26.0      0   \n",
       "3        Futrelle, Mrs. Jacques Heath (Lily May Peel)  female  35.0      1   \n",
       "4                            Allen, Mr. William Henry    male  35.0      0   \n",
       "5                                    Moran, Mr. James    male  28.0      0   \n",
       "6                             McCarthy, Mr. Timothy J    male  54.0      0   \n",
       "7                      Palsson, Master. Gosta Leonard    male   2.0      3   \n",
       "8   Johnson, Mrs. Oscar W (Elisabeth Vilhelmina Berg)  female  27.0      0   \n",
       "9                 Nasser, Mrs. Nicholas (Adele Achem)  female  14.0      1   \n",
       "10                    Sandstrom, Miss. Marguerite Rut  female   4.0      1   \n",
       "11                           Bonnell, Miss. Elizabeth  female  58.0      0   \n",
       "12                     Saundercock, Mr. William Henry    male  20.0      0   \n",
       "13                        Andersson, Mr. Anders Johan    male  39.0      1   \n",
       "14               Vestrom, Miss. Hulda Amanda Adolfina  female  14.0      0   \n",
       "\n",
       "    Parch            Ticket     Fare    Cabin Embarked  Family  HasBigFamily  \\\n",
       "0       0         A/5 21171   7.2500  Unknown        S       2             0   \n",
       "1       0          PC 17599  71.2833      C85        C       2             0   \n",
       "2       0  STON/O2. 3101282   7.9250  Unknown        S       1             0   \n",
       "3       0            113803  53.1000     C123        S       2             0   \n",
       "4       0            373450   8.0500  Unknown        S       1             0   \n",
       "5       0            330877   8.4583  Unknown        Q       1             0   \n",
       "6       0             17463  51.8625      E46        S       1             0   \n",
       "7       1            349909  21.0750  Unknown        S       5             1   \n",
       "8       2            347742  11.1333  Unknown        S       3             0   \n",
       "9       0            237736  30.0708  Unknown        C       2             0   \n",
       "10      1           PP 9549  16.7000       G6        S       3             0   \n",
       "11      0            113783  26.5500     C103        S       1             0   \n",
       "12      0         A/5. 2151   8.0500  Unknown        S       1             0   \n",
       "13      5            347082  31.2750  Unknown        S       7             1   \n",
       "14      0            350406   7.8542  Unknown        S       1             0   \n",
       "\n",
       "    IsAdult  \n",
       "0         1  \n",
       "1         1  \n",
       "2         1  \n",
       "3         1  \n",
       "4         1  \n",
       "5         1  \n",
       "6         1  \n",
       "7         0  \n",
       "8         1  \n",
       "9         0  \n",
       "10        0  \n",
       "11        1  \n",
       "12        1  \n",
       "13        1  \n",
       "14        0  "
      ]
     },
     "execution_count": 139,
     "metadata": {},
     "output_type": "execute_result"
    }
   ],
   "source": [
    "# Просмотр первых 15 строк для проверки\n",
    "\n",
    "data.head(15)"
   ]
  },
  {
   "cell_type": "code",
   "execution_count": 140,
   "metadata": {},
   "outputs": [
    {
     "data": {
      "text/html": [
       "<div>\n",
       "<style scoped>\n",
       "    .dataframe tbody tr th:only-of-type {\n",
       "        vertical-align: middle;\n",
       "    }\n",
       "\n",
       "    .dataframe tbody tr th {\n",
       "        vertical-align: top;\n",
       "    }\n",
       "\n",
       "    .dataframe thead th {\n",
       "        text-align: right;\n",
       "    }\n",
       "</style>\n",
       "<table border=\"1\" class=\"dataframe\">\n",
       "  <thead>\n",
       "    <tr style=\"text-align: right;\">\n",
       "      <th></th>\n",
       "      <th>SibSp</th>\n",
       "      <th>Parch</th>\n",
       "      <th>Family</th>\n",
       "      <th>HasBigFamily</th>\n",
       "      <th>Age</th>\n",
       "      <th>IsAdult</th>\n",
       "    </tr>\n",
       "  </thead>\n",
       "  <tbody>\n",
       "    <tr>\n",
       "      <th>0</th>\n",
       "      <td>1</td>\n",
       "      <td>0</td>\n",
       "      <td>2</td>\n",
       "      <td>0</td>\n",
       "      <td>22.0</td>\n",
       "      <td>1</td>\n",
       "    </tr>\n",
       "    <tr>\n",
       "      <th>1</th>\n",
       "      <td>1</td>\n",
       "      <td>0</td>\n",
       "      <td>2</td>\n",
       "      <td>0</td>\n",
       "      <td>38.0</td>\n",
       "      <td>1</td>\n",
       "    </tr>\n",
       "    <tr>\n",
       "      <th>2</th>\n",
       "      <td>0</td>\n",
       "      <td>0</td>\n",
       "      <td>1</td>\n",
       "      <td>0</td>\n",
       "      <td>26.0</td>\n",
       "      <td>1</td>\n",
       "    </tr>\n",
       "    <tr>\n",
       "      <th>3</th>\n",
       "      <td>1</td>\n",
       "      <td>0</td>\n",
       "      <td>2</td>\n",
       "      <td>0</td>\n",
       "      <td>35.0</td>\n",
       "      <td>1</td>\n",
       "    </tr>\n",
       "    <tr>\n",
       "      <th>4</th>\n",
       "      <td>0</td>\n",
       "      <td>0</td>\n",
       "      <td>1</td>\n",
       "      <td>0</td>\n",
       "      <td>35.0</td>\n",
       "      <td>1</td>\n",
       "    </tr>\n",
       "    <tr>\n",
       "      <th>5</th>\n",
       "      <td>0</td>\n",
       "      <td>0</td>\n",
       "      <td>1</td>\n",
       "      <td>0</td>\n",
       "      <td>28.0</td>\n",
       "      <td>1</td>\n",
       "    </tr>\n",
       "    <tr>\n",
       "      <th>6</th>\n",
       "      <td>0</td>\n",
       "      <td>0</td>\n",
       "      <td>1</td>\n",
       "      <td>0</td>\n",
       "      <td>54.0</td>\n",
       "      <td>1</td>\n",
       "    </tr>\n",
       "    <tr>\n",
       "      <th>7</th>\n",
       "      <td>3</td>\n",
       "      <td>1</td>\n",
       "      <td>5</td>\n",
       "      <td>1</td>\n",
       "      <td>2.0</td>\n",
       "      <td>0</td>\n",
       "    </tr>\n",
       "    <tr>\n",
       "      <th>8</th>\n",
       "      <td>0</td>\n",
       "      <td>2</td>\n",
       "      <td>3</td>\n",
       "      <td>0</td>\n",
       "      <td>27.0</td>\n",
       "      <td>1</td>\n",
       "    </tr>\n",
       "    <tr>\n",
       "      <th>9</th>\n",
       "      <td>1</td>\n",
       "      <td>0</td>\n",
       "      <td>2</td>\n",
       "      <td>0</td>\n",
       "      <td>14.0</td>\n",
       "      <td>0</td>\n",
       "    </tr>\n",
       "    <tr>\n",
       "      <th>10</th>\n",
       "      <td>1</td>\n",
       "      <td>1</td>\n",
       "      <td>3</td>\n",
       "      <td>0</td>\n",
       "      <td>4.0</td>\n",
       "      <td>0</td>\n",
       "    </tr>\n",
       "    <tr>\n",
       "      <th>11</th>\n",
       "      <td>0</td>\n",
       "      <td>0</td>\n",
       "      <td>1</td>\n",
       "      <td>0</td>\n",
       "      <td>58.0</td>\n",
       "      <td>1</td>\n",
       "    </tr>\n",
       "    <tr>\n",
       "      <th>12</th>\n",
       "      <td>0</td>\n",
       "      <td>0</td>\n",
       "      <td>1</td>\n",
       "      <td>0</td>\n",
       "      <td>20.0</td>\n",
       "      <td>1</td>\n",
       "    </tr>\n",
       "    <tr>\n",
       "      <th>13</th>\n",
       "      <td>1</td>\n",
       "      <td>5</td>\n",
       "      <td>7</td>\n",
       "      <td>1</td>\n",
       "      <td>39.0</td>\n",
       "      <td>1</td>\n",
       "    </tr>\n",
       "    <tr>\n",
       "      <th>14</th>\n",
       "      <td>0</td>\n",
       "      <td>0</td>\n",
       "      <td>1</td>\n",
       "      <td>0</td>\n",
       "      <td>14.0</td>\n",
       "      <td>0</td>\n",
       "    </tr>\n",
       "  </tbody>\n",
       "</table>\n",
       "</div>"
      ],
      "text/plain": [
       "    SibSp  Parch  Family  HasBigFamily   Age  IsAdult\n",
       "0       1      0       2             0  22.0        1\n",
       "1       1      0       2             0  38.0        1\n",
       "2       0      0       1             0  26.0        1\n",
       "3       1      0       2             0  35.0        1\n",
       "4       0      0       1             0  35.0        1\n",
       "5       0      0       1             0  28.0        1\n",
       "6       0      0       1             0  54.0        1\n",
       "7       3      1       5             1   2.0        0\n",
       "8       0      2       3             0  27.0        1\n",
       "9       1      0       2             0  14.0        0\n",
       "10      1      1       3             0   4.0        0\n",
       "11      0      0       1             0  58.0        1\n",
       "12      0      0       1             0  20.0        1\n",
       "13      1      5       7             1  39.0        1\n",
       "14      0      0       1             0  14.0        0"
      ]
     },
     "execution_count": 140,
     "metadata": {},
     "output_type": "execute_result"
    }
   ],
   "source": [
    "# Просмотр только новых признаков и тех, с помощью которых они были получены\n",
    "\n",
    "data[['SibSp', 'Parch', 'Family', 'HasBigFamily', 'Age', 'IsAdult']].head(15)"
   ]
  },
  {
   "cell_type": "markdown",
   "metadata": {
    "id": "3CjvcH1vkQdp"
   },
   "source": [
    "### 22"
   ]
  },
  {
   "cell_type": "markdown",
   "metadata": {
    "id": "3S-DG5yhkQdp"
   },
   "source": [
    "Придумайте какое-нибудь интересное задание на анализ предлагаемых данных и решите его. Например, какая фамилия была самой популярной на корабле?"
   ]
  },
  {
   "cell_type": "code",
   "execution_count": 83,
   "metadata": {},
   "outputs": [
    {
     "name": "stdout",
     "output_type": "stream",
     "text": [
      "Самая популярная фамилия на корабле: Andersson\n"
     ]
    }
   ],
   "source": [
    "# Какая фамилия была самой популярной на корабле\n",
    "\n",
    "print('Самая популярная фамилия на корабле:', data['Name'].str.split(',', expand=True)[0].describe().top)"
   ]
  },
  {
   "cell_type": "code",
   "execution_count": 84,
   "metadata": {},
   "outputs": [
    {
     "name": "stdout",
     "output_type": "stream",
     "text": [
      "Самая популярная фамилия на корабле среди женщин: Andersson\n"
     ]
    }
   ],
   "source": [
    "# Какая фамилия была самой популярной на корабле среди женщин\n",
    "\n",
    "print('Самая популярная фамилия на корабле среди женщин:', data[data['Sex'] == 'female']['Name'].str.split(',', expand=True)[0].describe().top)"
   ]
  },
  {
   "cell_type": "code",
   "execution_count": 85,
   "metadata": {},
   "outputs": [
    {
     "name": "stdout",
     "output_type": "stream",
     "text": [
      "Самая популярная фамилия на корабле среди мужчин: Panula\n"
     ]
    }
   ],
   "source": [
    "# Какая фамилия была самой популярной на корабле среди мужчин\n",
    "\n",
    "print('Самая популярная фамилия на корабле среди мужчин:', data[data['Sex'] == 'male']['Name'].str.split(',', expand=True)[0].describe().top)"
   ]
  },
  {
   "cell_type": "code",
   "execution_count": 86,
   "metadata": {
    "id": "pz_-HHYGkQdp"
   },
   "outputs": [
    {
     "name": "stdout",
     "output_type": "stream",
     "text": [
      "Самое популярное имя на корабле средим мужчин: John\n"
     ]
    }
   ],
   "source": [
    "# Какое имя было самым популярным на корабле среди мужчин\n",
    "\n",
    "print('Самое популярное имя на корабле средим мужчин:', data[data['Sex'] == 'male']['Name'].str.split(' ', n = 2, expand = True)[2].describe().top)\n",
    "\n",
    "# n = 2, так как фамилия и статус (Mr.) отделяются пробелами, а имя может быть сложным (включать пробелы)\n",
    "# Я могла неправильно сделать этот пункт, так как не поняла точно, что включает имя. Я решила, что имя - это то, что после запятой, но без статуса (Mr.)"
   ]
  },
  {
   "cell_type": "code",
   "execution_count": 88,
   "metadata": {},
   "outputs": [
    {
     "name": "stdout",
     "output_type": "stream",
     "text": [
      "Количество билетов, содержащих в начале номера \"STON/O2.\": 6\n"
     ]
    }
   ],
   "source": [
    "# Проверка, сколько случаев, когда первая часть номера билета (до первого пробела) содержит \"STON/O2.\"\n",
    "\n",
    "print('Количество билетов, содержащих в начале номера \"STON/O2.\":', data['Ticket'].str.split(' ', expand = True)[0].str.contains('STON/O2.').astype(int).sum())"
   ]
  },
  {
   "cell_type": "code",
   "execution_count": 90,
   "metadata": {},
   "outputs": [
    {
     "name": "stdout",
     "output_type": "stream",
     "text": [
      "Количество билетов, номера которых являются сложными (содержат \"/\"): 98\n"
     ]
    }
   ],
   "source": [
    "# Проверка, сколько номеров билета являются сложными (содержат символ \"/\")\n",
    "\n",
    "print('Количество билетов, номера которых являются сложными (содержат \"/\"):', data['Ticket'].str.contains('/').astype(int).sum())"
   ]
  },
  {
   "cell_type": "code",
   "execution_count": 157,
   "metadata": {},
   "outputs": [
    {
     "name": "stdout",
     "output_type": "stream",
     "text": [
      "Количество погибших детей: 52\n"
     ]
    }
   ],
   "source": [
    "# Сколько детей погибло\n",
    "\n",
    "print('Количество погибших детей:', data[(data['IsAdult'] == 0) & (data['Survived'] == 0)]['IsAdult'].count())"
   ]
  },
  {
   "cell_type": "code",
   "execution_count": 29,
   "metadata": {},
   "outputs": [
    {
     "data": {
      "text/html": [
       "<div>\n",
       "<style scoped>\n",
       "    .dataframe tbody tr th:only-of-type {\n",
       "        vertical-align: middle;\n",
       "    }\n",
       "\n",
       "    .dataframe tbody tr th {\n",
       "        vertical-align: top;\n",
       "    }\n",
       "\n",
       "    .dataframe thead th {\n",
       "        text-align: right;\n",
       "    }\n",
       "</style>\n",
       "<table border=\"1\" class=\"dataframe\">\n",
       "  <thead>\n",
       "    <tr style=\"text-align: right;\">\n",
       "      <th></th>\n",
       "      <th>PassengerId</th>\n",
       "      <th>Survived</th>\n",
       "      <th>Pclass</th>\n",
       "      <th>Sex</th>\n",
       "      <th>Age</th>\n",
       "      <th>SibSp</th>\n",
       "      <th>Parch</th>\n",
       "      <th>Fare</th>\n",
       "      <th>Embarked</th>\n",
       "      <th>Family</th>\n",
       "      <th>HasBigFamily</th>\n",
       "      <th>IsAdult</th>\n",
       "    </tr>\n",
       "  </thead>\n",
       "  <tbody>\n",
       "    <tr>\n",
       "      <th>0</th>\n",
       "      <td>1</td>\n",
       "      <td>0</td>\n",
       "      <td>3</td>\n",
       "      <td>male</td>\n",
       "      <td>22.0</td>\n",
       "      <td>1</td>\n",
       "      <td>0</td>\n",
       "      <td>7.2500</td>\n",
       "      <td>S</td>\n",
       "      <td>2</td>\n",
       "      <td>0</td>\n",
       "      <td>1</td>\n",
       "    </tr>\n",
       "    <tr>\n",
       "      <th>1</th>\n",
       "      <td>2</td>\n",
       "      <td>1</td>\n",
       "      <td>1</td>\n",
       "      <td>female</td>\n",
       "      <td>38.0</td>\n",
       "      <td>1</td>\n",
       "      <td>0</td>\n",
       "      <td>71.2833</td>\n",
       "      <td>C</td>\n",
       "      <td>2</td>\n",
       "      <td>0</td>\n",
       "      <td>1</td>\n",
       "    </tr>\n",
       "    <tr>\n",
       "      <th>2</th>\n",
       "      <td>3</td>\n",
       "      <td>1</td>\n",
       "      <td>3</td>\n",
       "      <td>female</td>\n",
       "      <td>26.0</td>\n",
       "      <td>0</td>\n",
       "      <td>0</td>\n",
       "      <td>7.9250</td>\n",
       "      <td>S</td>\n",
       "      <td>1</td>\n",
       "      <td>0</td>\n",
       "      <td>1</td>\n",
       "    </tr>\n",
       "    <tr>\n",
       "      <th>3</th>\n",
       "      <td>4</td>\n",
       "      <td>1</td>\n",
       "      <td>1</td>\n",
       "      <td>female</td>\n",
       "      <td>35.0</td>\n",
       "      <td>1</td>\n",
       "      <td>0</td>\n",
       "      <td>53.1000</td>\n",
       "      <td>S</td>\n",
       "      <td>2</td>\n",
       "      <td>0</td>\n",
       "      <td>1</td>\n",
       "    </tr>\n",
       "    <tr>\n",
       "      <th>4</th>\n",
       "      <td>5</td>\n",
       "      <td>0</td>\n",
       "      <td>3</td>\n",
       "      <td>male</td>\n",
       "      <td>35.0</td>\n",
       "      <td>0</td>\n",
       "      <td>0</td>\n",
       "      <td>8.0500</td>\n",
       "      <td>S</td>\n",
       "      <td>1</td>\n",
       "      <td>0</td>\n",
       "      <td>1</td>\n",
       "    </tr>\n",
       "    <tr>\n",
       "      <th>...</th>\n",
       "      <td>...</td>\n",
       "      <td>...</td>\n",
       "      <td>...</td>\n",
       "      <td>...</td>\n",
       "      <td>...</td>\n",
       "      <td>...</td>\n",
       "      <td>...</td>\n",
       "      <td>...</td>\n",
       "      <td>...</td>\n",
       "      <td>...</td>\n",
       "      <td>...</td>\n",
       "      <td>...</td>\n",
       "    </tr>\n",
       "    <tr>\n",
       "      <th>886</th>\n",
       "      <td>887</td>\n",
       "      <td>0</td>\n",
       "      <td>2</td>\n",
       "      <td>male</td>\n",
       "      <td>27.0</td>\n",
       "      <td>0</td>\n",
       "      <td>0</td>\n",
       "      <td>13.0000</td>\n",
       "      <td>S</td>\n",
       "      <td>1</td>\n",
       "      <td>0</td>\n",
       "      <td>1</td>\n",
       "    </tr>\n",
       "    <tr>\n",
       "      <th>887</th>\n",
       "      <td>888</td>\n",
       "      <td>1</td>\n",
       "      <td>1</td>\n",
       "      <td>female</td>\n",
       "      <td>19.0</td>\n",
       "      <td>0</td>\n",
       "      <td>0</td>\n",
       "      <td>30.0000</td>\n",
       "      <td>S</td>\n",
       "      <td>1</td>\n",
       "      <td>0</td>\n",
       "      <td>1</td>\n",
       "    </tr>\n",
       "    <tr>\n",
       "      <th>888</th>\n",
       "      <td>889</td>\n",
       "      <td>0</td>\n",
       "      <td>3</td>\n",
       "      <td>female</td>\n",
       "      <td>28.0</td>\n",
       "      <td>1</td>\n",
       "      <td>2</td>\n",
       "      <td>23.4500</td>\n",
       "      <td>S</td>\n",
       "      <td>4</td>\n",
       "      <td>1</td>\n",
       "      <td>1</td>\n",
       "    </tr>\n",
       "    <tr>\n",
       "      <th>889</th>\n",
       "      <td>890</td>\n",
       "      <td>1</td>\n",
       "      <td>1</td>\n",
       "      <td>male</td>\n",
       "      <td>26.0</td>\n",
       "      <td>0</td>\n",
       "      <td>0</td>\n",
       "      <td>30.0000</td>\n",
       "      <td>C</td>\n",
       "      <td>1</td>\n",
       "      <td>0</td>\n",
       "      <td>1</td>\n",
       "    </tr>\n",
       "    <tr>\n",
       "      <th>890</th>\n",
       "      <td>891</td>\n",
       "      <td>0</td>\n",
       "      <td>3</td>\n",
       "      <td>male</td>\n",
       "      <td>32.0</td>\n",
       "      <td>0</td>\n",
       "      <td>0</td>\n",
       "      <td>7.7500</td>\n",
       "      <td>Q</td>\n",
       "      <td>1</td>\n",
       "      <td>0</td>\n",
       "      <td>1</td>\n",
       "    </tr>\n",
       "  </tbody>\n",
       "</table>\n",
       "<p>891 rows × 12 columns</p>\n",
       "</div>"
      ],
      "text/plain": [
       "     PassengerId  Survived  Pclass     Sex   Age  SibSp  Parch     Fare  \\\n",
       "0              1         0       3    male  22.0      1      0   7.2500   \n",
       "1              2         1       1  female  38.0      1      0  71.2833   \n",
       "2              3         1       3  female  26.0      0      0   7.9250   \n",
       "3              4         1       1  female  35.0      1      0  53.1000   \n",
       "4              5         0       3    male  35.0      0      0   8.0500   \n",
       "..           ...       ...     ...     ...   ...    ...    ...      ...   \n",
       "886          887         0       2    male  27.0      0      0  13.0000   \n",
       "887          888         1       1  female  19.0      0      0  30.0000   \n",
       "888          889         0       3  female  28.0      1      2  23.4500   \n",
       "889          890         1       1    male  26.0      0      0  30.0000   \n",
       "890          891         0       3    male  32.0      0      0   7.7500   \n",
       "\n",
       "    Embarked  Family  HasBigFamily  IsAdult  \n",
       "0          S       2             0        1  \n",
       "1          C       2             0        1  \n",
       "2          S       1             0        1  \n",
       "3          S       2             0        1  \n",
       "4          S       1             0        1  \n",
       "..       ...     ...           ...      ...  \n",
       "886        S       1             0        1  \n",
       "887        S       1             0        1  \n",
       "888        S       4             1        1  \n",
       "889        C       1             0        1  \n",
       "890        Q       1             0        1  \n",
       "\n",
       "[891 rows x 12 columns]"
      ]
     },
     "execution_count": 29,
     "metadata": {},
     "output_type": "execute_result"
    }
   ],
   "source": [
    "# 18 НОМЕР\n",
    "\n",
    "# PassengerId не несет полезную информацию для анализа, однако является уникальным номером пассажиров и может быть использован для их идентификации (оставлен как технический столбец)\n",
    "# Name содержит имена пассажиров, которые не важны для анализа и статистики, а для идентификации пассажиров можно использовать их номера, которые точно уникальны, в отличие от имен\n",
    "# Ticket содержит номера билетов пассажиров, которые не полезны для проведения анализа (так же их слишком много, хоть они и могут повторяться)\n",
    "# Cabin является категориальным признаком и мог бы быть полезным для анализа, однако имеет слишком много опций и пропусков (687 из 891 строк), поэтому результаты его анализа будут искаженными\n",
    "\n",
    "data = data.drop(columns=['Name', 'Ticket', 'Cabin'])\n",
    "data\n",
    "\n",
    "# data показывает первые 5 и последние 5 строк, позволяя убедиться, что бесполезные для анализа столбцы удалены"
   ]
  },
  {
   "cell_type": "markdown",
   "metadata": {
    "id": "CqYa1EfakQdp"
   },
   "source": [
    "### 23"
   ]
  },
  {
   "cell_type": "markdown",
   "metadata": {
    "id": "fQvBDhR6kQdp"
   },
   "source": [
    "Постройте гистограммы распределения вещественных признаков. Есть ли в них разница? Чем это может быть плохо с точки зрения машинного обучения? Отнормируйте вещественные признаки 2 любыми методами и посмотрите, как изменилась ситуация."
   ]
  },
  {
   "cell_type": "code",
   "execution_count": 217,
   "metadata": {
    "id": "0GrocBi-kQdp"
   },
   "outputs": [
    {
     "data": {
      "image/png": "[encoded data removed]",
      "text/plain": [
       "<Figure size 1080x504 with 1 Axes>"
      ]
     },
     "metadata": {
      "needs_background": "light"
     },
     "output_type": "display_data"
    }
   ],
   "source": [
    "# Гистограммы построены для 5 вещественных признаков: Age, SibSp, Parch, Fare, Family\n",
    "# Для PassengerId гистограмму не имеет смысла строить, так как это техническое поле, где все значения составляют уникальные номера (целые числа), начиная с 1 и с шагом 1\n",
    "\n",
    "# Гистограмма распределения возраста пассажиров\n",
    "\n",
    "data['Age'].plot.hist(figsize=(15, 7), bins=100, title='Распределение возраста пассажиров')\n",
    "plt.xlabel('Возраст пассажиров')\n",
    "plt.ylabel('Количество пассажиров')\n",
    "plt.show()"
   ]
  },
  {
   "cell_type": "code",
   "execution_count": 213,
   "metadata": {},
   "outputs": [
    {
     "data": {
      "image/png": "[encoded data removed]",
      "text/plain": [
       "<Figure size 720x504 with 1 Axes>"
      ]
     },
     "metadata": {
      "needs_background": "light"
     },
     "output_type": "display_data"
    }
   ],
   "source": [
    "# Гистограмма распределения количества братьев/сестер или супругов пассажиров на борту\n",
    "\n",
    "data['SibSp'].plot.hist(figsize=(10, 7), bins=30, title='Распределение количества братьев/сестер или супругов')\n",
    "plt.xlabel('Количество братьев/сестер или супругов')\n",
    "plt.ylabel('Количество пассажиров')\n",
    "plt.show()"
   ]
  },
  {
   "cell_type": "code",
   "execution_count": 212,
   "metadata": {},
   "outputs": [
    {
     "data": {
      "image/png": "[encoded data removed]",
      "text/plain": [
       "<Figure size 720x504 with 1 Axes>"
      ]
     },
     "metadata": {
      "needs_background": "light"
     },
     "output_type": "display_data"
    }
   ],
   "source": [
    "# Гистограмма распределения количества родителей/детей пассажиров на борту\n",
    "\n",
    "data['Parch'].plot.hist(figsize=(10, 7), bins=30, title='Распределение количества родителей/детей')\n",
    "plt.xlabel('Количество родителей/детей')\n",
    "plt.ylabel('Количество пассажиров')\n",
    "plt.show()"
   ]
  },
  {
   "cell_type": "code",
   "execution_count": 254,
   "metadata": {},
   "outputs": [
    {
     "data": {
      "image/png": "[encoded data removed]",
      "text/plain": [
       "<Figure size 720x504 with 1 Axes>"
      ]
     },
     "metadata": {
      "needs_background": "light"
     },
     "output_type": "display_data"
    }
   ],
   "source": [
    "# Гистограмма распределения цен за билеты пассажиров\n",
    "\n",
    "data['Fare'].plot.hist(figsize=(10, 7), bins=80, title='Распределение цены за билет')\n",
    "plt.xlabel('Цена за билет')\n",
    "plt.ylabel('Количество пассажиров')\n",
    "plt.show()"
   ]
  },
  {
   "cell_type": "code",
   "execution_count": 206,
   "metadata": {},
   "outputs": [
    {
     "data": {
      "image/png": "[encoded data removed]",
      "text/plain": [
       "<Figure size 720x504 with 1 Axes>"
      ]
     },
     "metadata": {
      "needs_background": "light"
     },
     "output_type": "display_data"
    }
   ],
   "source": [
    "# Гистограмма распределения количества членов семьи пассажиров на борту \n",
    "\n",
    "data['Family'].plot.hist(figsize=(10, 7), bins=30, title='Распределение количества членов семьи')\n",
    "plt.xlabel('Количество членов семьи'), plt.ylabel('Количество пассажиров')\n",
    "plt.show()"
   ]
  },
  {
   "cell_type": "code",
   "execution_count": 26,
   "metadata": {},
   "outputs": [
    {
     "data": {
      "image/png": "[encoded data removed]",
      "text/plain": [
       "<Figure size 1080x720 with 1 Axes>"
      ]
     },
     "metadata": {
      "needs_background": "light"
     },
     "output_type": "display_data"
    }
   ],
   "source": [
    "# Гистограмма распределения всех вещественных признаков\n",
    "\n",
    "columns_new = ['Age', 'SibSp', 'Parch', 'Fare', 'Family']\n",
    "data_new = data[columns_new]\n",
    "data_new.plot.hist(figsize=(15, 10), bins=50, alpha=0.5, title='Распределение всех вещественных признаков')\n",
    "plt.ylabel('Количество пассажиров')\n",
    "plt.legend = columns_new\n",
    "plt.show()"
   ]
  },
  {
   "cell_type": "code",
   "execution_count": 329,
   "metadata": {},
   "outputs": [],
   "source": [
    "# Данные разноразмерные, их значения находятся в разных диапазонах), что плохо с точки зрения машинного обучения, так как может привести к неравномерному распределению весов\n",
    "# Чтобы решить эту проблему, данные нужно нормализовать\n",
    "# Ниже приведены 2 метода (способа) нормализации данных, выводы нормализованных данных и гистограммы с новыми данными"
   ]
  },
  {
   "cell_type": "code",
   "execution_count": 17,
   "metadata": {},
   "outputs": [],
   "source": [
    "# Использование библиотеки\n",
    "from sklearn import preprocessing"
   ]
  },
  {
   "cell_type": "code",
   "execution_count": 18,
   "metadata": {},
   "outputs": [],
   "source": [
    "# Нормализация данных (1 способ)\n",
    "\n",
    "data_normalized = pd.DataFrame(preprocessing.normalize(data_new), columns=columns_new)\n",
    "\n",
    "# Альтернатива (для более удобного чтения):\n",
    "# array_normalized = preprocessing.normalize(data_new)\n",
    "# data_normalized = pd.DataFrame(array_normalized, columns=columns_new)"
   ]
  },
  {
   "cell_type": "code",
   "execution_count": 19,
   "metadata": {},
   "outputs": [
    {
     "data": {
      "text/html": [
       "<div>\n",
       "<style scoped>\n",
       "    .dataframe tbody tr th:only-of-type {\n",
       "        vertical-align: middle;\n",
       "    }\n",
       "\n",
       "    .dataframe tbody tr th {\n",
       "        vertical-align: top;\n",
       "    }\n",
       "\n",
       "    .dataframe thead th {\n",
       "        text-align: right;\n",
       "    }\n",
       "</style>\n",
       "<table border=\"1\" class=\"dataframe\">\n",
       "  <thead>\n",
       "    <tr style=\"text-align: right;\">\n",
       "      <th></th>\n",
       "      <th>Age</th>\n",
       "      <th>SibSp</th>\n",
       "      <th>Parch</th>\n",
       "      <th>Fare</th>\n",
       "      <th>Family</th>\n",
       "    </tr>\n",
       "  </thead>\n",
       "  <tbody>\n",
       "    <tr>\n",
       "      <th>0</th>\n",
       "      <td>0.945363</td>\n",
       "      <td>0.042971</td>\n",
       "      <td>0.000000</td>\n",
       "      <td>0.311540</td>\n",
       "      <td>0.085942</td>\n",
       "    </tr>\n",
       "    <tr>\n",
       "      <th>1</th>\n",
       "      <td>0.470237</td>\n",
       "      <td>0.012375</td>\n",
       "      <td>0.000000</td>\n",
       "      <td>0.882106</td>\n",
       "      <td>0.024749</td>\n",
       "    </tr>\n",
       "    <tr>\n",
       "      <th>2</th>\n",
       "      <td>0.955905</td>\n",
       "      <td>0.000000</td>\n",
       "      <td>0.000000</td>\n",
       "      <td>0.291367</td>\n",
       "      <td>0.036766</td>\n",
       "    </tr>\n",
       "    <tr>\n",
       "      <th>3</th>\n",
       "      <td>0.549998</td>\n",
       "      <td>0.015714</td>\n",
       "      <td>0.000000</td>\n",
       "      <td>0.834426</td>\n",
       "      <td>0.031428</td>\n",
       "    </tr>\n",
       "    <tr>\n",
       "      <th>4</th>\n",
       "      <td>0.974178</td>\n",
       "      <td>0.000000</td>\n",
       "      <td>0.000000</td>\n",
       "      <td>0.224061</td>\n",
       "      <td>0.027834</td>\n",
       "    </tr>\n",
       "    <tr>\n",
       "      <th>...</th>\n",
       "      <td>...</td>\n",
       "      <td>...</td>\n",
       "      <td>...</td>\n",
       "      <td>...</td>\n",
       "      <td>...</td>\n",
       "    </tr>\n",
       "    <tr>\n",
       "      <th>886</th>\n",
       "      <td>0.900500</td>\n",
       "      <td>0.000000</td>\n",
       "      <td>0.000000</td>\n",
       "      <td>0.433574</td>\n",
       "      <td>0.033352</td>\n",
       "    </tr>\n",
       "    <tr>\n",
       "      <th>887</th>\n",
       "      <td>0.534840</td>\n",
       "      <td>0.000000</td>\n",
       "      <td>0.000000</td>\n",
       "      <td>0.844484</td>\n",
       "      <td>0.028149</td>\n",
       "    </tr>\n",
       "    <tr>\n",
       "      <th>888</th>\n",
       "      <td>0.760684</td>\n",
       "      <td>0.027167</td>\n",
       "      <td>0.054335</td>\n",
       "      <td>0.637072</td>\n",
       "      <td>0.108669</td>\n",
       "    </tr>\n",
       "    <tr>\n",
       "      <th>889</th>\n",
       "      <td>0.654723</td>\n",
       "      <td>0.000000</td>\n",
       "      <td>0.000000</td>\n",
       "      <td>0.755449</td>\n",
       "      <td>0.025182</td>\n",
       "    </tr>\n",
       "    <tr>\n",
       "      <th>890</th>\n",
       "      <td>0.971455</td>\n",
       "      <td>0.000000</td>\n",
       "      <td>0.000000</td>\n",
       "      <td>0.235274</td>\n",
       "      <td>0.030358</td>\n",
       "    </tr>\n",
       "  </tbody>\n",
       "</table>\n",
       "<p>891 rows × 5 columns</p>\n",
       "</div>"
      ],
      "text/plain": [
       "          Age     SibSp     Parch      Fare    Family\n",
       "0    0.945363  0.042971  0.000000  0.311540  0.085942\n",
       "1    0.470237  0.012375  0.000000  0.882106  0.024749\n",
       "2    0.955905  0.000000  0.000000  0.291367  0.036766\n",
       "3    0.549998  0.015714  0.000000  0.834426  0.031428\n",
       "4    0.974178  0.000000  0.000000  0.224061  0.027834\n",
       "..        ...       ...       ...       ...       ...\n",
       "886  0.900500  0.000000  0.000000  0.433574  0.033352\n",
       "887  0.534840  0.000000  0.000000  0.844484  0.028149\n",
       "888  0.760684  0.027167  0.054335  0.637072  0.108669\n",
       "889  0.654723  0.000000  0.000000  0.755449  0.025182\n",
       "890  0.971455  0.000000  0.000000  0.235274  0.030358\n",
       "\n",
       "[891 rows x 5 columns]"
      ]
     },
     "execution_count": 19,
     "metadata": {},
     "output_type": "execute_result"
    }
   ],
   "source": [
    "# Вывод нормализованных данных (1 способ)\n",
    "\n",
    "data_normalized"
   ]
  },
  {
   "cell_type": "code",
   "execution_count": 303,
   "metadata": {},
   "outputs": [
    {
     "data": {
      "image/png": "[encoded data removed]",
      "text/plain": [
       "<Figure size 1080x504 with 1 Axes>"
      ]
     },
     "metadata": {
      "needs_background": "light"
     },
     "output_type": "display_data"
    }
   ],
   "source": [
    "# Гистограмма распределения возраста пассажиров с нормализованными  (1 способ)\n",
    "\n",
    "data_normalized['Age'].plot.hist(figsize=(15, 7), bins=100, title='Распределение возраста пассажиров')\n",
    "plt.xlabel('Возраст пассажиров')\n",
    "plt.ylabel('Количество пассажиров')\n",
    "plt.show()"
   ]
  },
  {
   "cell_type": "code",
   "execution_count": 304,
   "metadata": {},
   "outputs": [
    {
     "data": {
      "image/png": "[encoded data removed]",
      "text/plain": [
       "<Figure size 720x504 with 1 Axes>"
      ]
     },
     "metadata": {
      "needs_background": "light"
     },
     "output_type": "display_data"
    }
   ],
   "source": [
    "# Гистограмма распределения количества братьев/сестер или супругов пассажиров на борту с нормализованными данными (1 способ)\n",
    "\n",
    "data_normalized['SibSp'].plot.hist(figsize=(10, 7), bins=30, title='Распределение количества братьев/сестер или супругов')\n",
    "plt.xlabel('Количество братьев/сестер или супругов')\n",
    "plt.ylabel('Количество пассажиров')\n",
    "plt.show()"
   ]
  },
  {
   "cell_type": "code",
   "execution_count": 307,
   "metadata": {},
   "outputs": [
    {
     "data": {
      "image/png": "[encoded data removed]",
      "text/plain": [
       "<Figure size 720x504 with 1 Axes>"
      ]
     },
     "metadata": {
      "needs_background": "light"
     },
     "output_type": "display_data"
    }
   ],
   "source": [
    "# Гистограмма распределения количества родителей/детей пассажиров на борту с нормализованными данными (1 способ)\n",
    "\n",
    "data_normalized['Parch'].plot.hist(figsize=(10, 7), bins=30, title='Распределение количества родителей/детей')\n",
    "plt.xlabel('Количество родителей/детей')\n",
    "plt.ylabel('Количество пассажиров')\n",
    "plt.show()"
   ]
  },
  {
   "cell_type": "code",
   "execution_count": 308,
   "metadata": {},
   "outputs": [
    {
     "data": {
      "image/png": "[encoded data removed]",
      "text/plain": [
       "<Figure size 720x504 with 1 Axes>"
      ]
     },
     "metadata": {
      "needs_background": "light"
     },
     "output_type": "display_data"
    }
   ],
   "source": [
    "# Гистограмма распределения цен за билеты пассажиров с нормализованными данными (1 способ)\n",
    "\n",
    "data_normalized['Fare'].plot.hist(figsize=(10, 7), bins=80, title='Распределение цены за билет')\n",
    "plt.xlabel('Цена за билет')\n",
    "plt.ylabel('Количество пассажиров')\n",
    "plt.show()"
   ]
  },
  {
   "cell_type": "code",
   "execution_count": 309,
   "metadata": {},
   "outputs": [
    {
     "data": {
      "image/png": "[encoded data removed]",
      "text/plain": [
       "<Figure size 720x504 with 1 Axes>"
      ]
     },
     "metadata": {
      "needs_background": "light"
     },
     "output_type": "display_data"
    }
   ],
   "source": [
    "# Гистограмма распределения количества членов семьи пассажиров на борту с нормализованными данными (1 способ)\n",
    "\n",
    "data_normalized['Family'].plot.hist(figsize=(10, 7), bins=30, title='Распределение количества членов семьи')\n",
    "plt.xlabel('Количество членов семьи'), plt.ylabel('Количество пассажиров')\n",
    "plt.show()"
   ]
  },
  {
   "cell_type": "code",
   "execution_count": 27,
   "metadata": {},
   "outputs": [
    {
     "data": {
      "image/png": "[encoded data removed]",
      "text/plain": [
       "<Figure size 1080x720 with 1 Axes>"
      ]
     },
     "metadata": {
      "needs_background": "light"
     },
     "output_type": "display_data"
    }
   ],
   "source": [
    "# Гистограмма распределения всех вещественных признаков с нормализованными данными (1 способ)\n",
    "\n",
    "\n",
    "data_normalized.plot.hist(figsize=(15, 10), bins=50, alpha=0.5, title='Распределение всех вещественных признаков')\n",
    "plt.ylabel('Количество пассажиров')\n",
    "plt.legend = columns_new\n",
    "plt.show()"
   ]
  },
  {
   "cell_type": "code",
   "execution_count": 21,
   "metadata": {},
   "outputs": [],
   "source": [
    "# Нормализация данных (2 способ)\n",
    "\n",
    "data_normalized_2 = pd.DataFrame(preprocessing.MinMaxScaler().fit_transform(data_new), columns=columns_new)\n",
    "\n",
    "# Альтернатива (для более удобного чтения):\n",
    "# array_normalized_2 = preprocessing.MinMaxScaler().fit_transform(data_new)\n",
    "# data_normalized_2 = pd.DataFrame(array_normalized, columns=columns_new)"
   ]
  },
  {
   "cell_type": "code",
   "execution_count": 22,
   "metadata": {},
   "outputs": [
    {
     "data": {
      "text/html": [
       "<div>\n",
       "<style scoped>\n",
       "    .dataframe tbody tr th:only-of-type {\n",
       "        vertical-align: middle;\n",
       "    }\n",
       "\n",
       "    .dataframe tbody tr th {\n",
       "        vertical-align: top;\n",
       "    }\n",
       "\n",
       "    .dataframe thead th {\n",
       "        text-align: right;\n",
       "    }\n",
       "</style>\n",
       "<table border=\"1\" class=\"dataframe\">\n",
       "  <thead>\n",
       "    <tr style=\"text-align: right;\">\n",
       "      <th></th>\n",
       "      <th>Age</th>\n",
       "      <th>SibSp</th>\n",
       "      <th>Parch</th>\n",
       "      <th>Fare</th>\n",
       "      <th>Family</th>\n",
       "    </tr>\n",
       "  </thead>\n",
       "  <tbody>\n",
       "    <tr>\n",
       "      <th>0</th>\n",
       "      <td>0.271174</td>\n",
       "      <td>0.125</td>\n",
       "      <td>0.000000</td>\n",
       "      <td>0.014151</td>\n",
       "      <td>0.1</td>\n",
       "    </tr>\n",
       "    <tr>\n",
       "      <th>1</th>\n",
       "      <td>0.472229</td>\n",
       "      <td>0.125</td>\n",
       "      <td>0.000000</td>\n",
       "      <td>0.139136</td>\n",
       "      <td>0.1</td>\n",
       "    </tr>\n",
       "    <tr>\n",
       "      <th>2</th>\n",
       "      <td>0.321438</td>\n",
       "      <td>0.000</td>\n",
       "      <td>0.000000</td>\n",
       "      <td>0.015469</td>\n",
       "      <td>0.0</td>\n",
       "    </tr>\n",
       "    <tr>\n",
       "      <th>3</th>\n",
       "      <td>0.434531</td>\n",
       "      <td>0.125</td>\n",
       "      <td>0.000000</td>\n",
       "      <td>0.103644</td>\n",
       "      <td>0.1</td>\n",
       "    </tr>\n",
       "    <tr>\n",
       "      <th>4</th>\n",
       "      <td>0.434531</td>\n",
       "      <td>0.000</td>\n",
       "      <td>0.000000</td>\n",
       "      <td>0.015713</td>\n",
       "      <td>0.0</td>\n",
       "    </tr>\n",
       "    <tr>\n",
       "      <th>...</th>\n",
       "      <td>...</td>\n",
       "      <td>...</td>\n",
       "      <td>...</td>\n",
       "      <td>...</td>\n",
       "      <td>...</td>\n",
       "    </tr>\n",
       "    <tr>\n",
       "      <th>886</th>\n",
       "      <td>0.334004</td>\n",
       "      <td>0.000</td>\n",
       "      <td>0.000000</td>\n",
       "      <td>0.025374</td>\n",
       "      <td>0.0</td>\n",
       "    </tr>\n",
       "    <tr>\n",
       "      <th>887</th>\n",
       "      <td>0.233476</td>\n",
       "      <td>0.000</td>\n",
       "      <td>0.000000</td>\n",
       "      <td>0.058556</td>\n",
       "      <td>0.0</td>\n",
       "    </tr>\n",
       "    <tr>\n",
       "      <th>888</th>\n",
       "      <td>0.346569</td>\n",
       "      <td>0.125</td>\n",
       "      <td>0.333333</td>\n",
       "      <td>0.045771</td>\n",
       "      <td>0.3</td>\n",
       "    </tr>\n",
       "    <tr>\n",
       "      <th>889</th>\n",
       "      <td>0.321438</td>\n",
       "      <td>0.000</td>\n",
       "      <td>0.000000</td>\n",
       "      <td>0.058556</td>\n",
       "      <td>0.0</td>\n",
       "    </tr>\n",
       "    <tr>\n",
       "      <th>890</th>\n",
       "      <td>0.396833</td>\n",
       "      <td>0.000</td>\n",
       "      <td>0.000000</td>\n",
       "      <td>0.015127</td>\n",
       "      <td>0.0</td>\n",
       "    </tr>\n",
       "  </tbody>\n",
       "</table>\n",
       "<p>891 rows × 5 columns</p>\n",
       "</div>"
      ],
      "text/plain": [
       "          Age  SibSp     Parch      Fare  Family\n",
       "0    0.271174  0.125  0.000000  0.014151     0.1\n",
       "1    0.472229  0.125  0.000000  0.139136     0.1\n",
       "2    0.321438  0.000  0.000000  0.015469     0.0\n",
       "3    0.434531  0.125  0.000000  0.103644     0.1\n",
       "4    0.434531  0.000  0.000000  0.015713     0.0\n",
       "..        ...    ...       ...       ...     ...\n",
       "886  0.334004  0.000  0.000000  0.025374     0.0\n",
       "887  0.233476  0.000  0.000000  0.058556     0.0\n",
       "888  0.346569  0.125  0.333333  0.045771     0.3\n",
       "889  0.321438  0.000  0.000000  0.058556     0.0\n",
       "890  0.396833  0.000  0.000000  0.015127     0.0\n",
       "\n",
       "[891 rows x 5 columns]"
      ]
     },
     "execution_count": 22,
     "metadata": {},
     "output_type": "execute_result"
    }
   ],
   "source": [
    "# Вывод нормализованных данных (2 способ)\n",
    "\n",
    "data_normalized_2"
   ]
  },
  {
   "cell_type": "code",
   "execution_count": 314,
   "metadata": {},
   "outputs": [
    {
     "data": {
      "image/png": "[encoded data removed]",
      "text/plain": [
       "<Figure size 1080x504 with 1 Axes>"
      ]
     },
     "metadata": {
      "needs_background": "light"
     },
     "output_type": "display_data"
    }
   ],
   "source": [
    "# Гистограмма распределения возраста пассажиров с нормализованными  (2 способ)\n",
    "\n",
    "data_normalized_2['Age'].plot.hist(figsize=(15, 7), bins=100, title='Распределение возраста пассажиров')\n",
    "plt.xlabel('Возраст пассажиров')\n",
    "plt.ylabel('Количество пассажиров')\n",
    "plt.show()"
   ]
  },
  {
   "cell_type": "code",
   "execution_count": 315,
   "metadata": {},
   "outputs": [
    {
     "data": {
      "image/png": "[encoded data removed]",
      "text/plain": [
       "<Figure size 720x504 with 1 Axes>"
      ]
     },
     "metadata": {
      "needs_background": "light"
     },
     "output_type": "display_data"
    }
   ],
   "source": [
    "# Гистограмма распределения количества братьев/сестер или супругов пассажиров на борту с нормализованными данными (2 способ)\n",
    "\n",
    "data_normalized_2['SibSp'].plot.hist(figsize=(10, 7), bins=30, title='Распределение количества братьев/сестер или супругов')\n",
    "plt.xlabel('Количество братьев/сестер или супругов')\n",
    "plt.ylabel('Количество пассажиров')\n",
    "plt.show()"
   ]
  },
  {
   "cell_type": "code",
   "execution_count": 316,
   "metadata": {},
   "outputs": [
    {
     "data": {
      "image/png": "[encoded data removed]",
      "text/plain": [
       "<Figure size 720x504 with 1 Axes>"
      ]
     },
     "metadata": {
      "needs_background": "light"
     },
     "output_type": "display_data"
    }
   ],
   "source": [
    "# Гистограмма распределения количества родителей/детей пассажиров на борту с нормализованными данными (2 способ)\n",
    "\n",
    "data_normalized_2['Parch'].plot.hist(figsize=(10, 7), bins=30, title='Распределение количества родителей/детей')\n",
    "plt.xlabel('Количество родителей/детей')\n",
    "plt.ylabel('Количество пассажиров')\n",
    "plt.show()"
   ]
  },
  {
   "cell_type": "code",
   "execution_count": 317,
   "metadata": {},
   "outputs": [
    {
     "data": {
      "image/png": "[encoded data removed]",
      "text/plain": [
       "<Figure size 720x504 with 1 Axes>"
      ]
     },
     "metadata": {
      "needs_background": "light"
     },
     "output_type": "display_data"
    }
   ],
   "source": [
    "# Гистограмма распределения цен за билеты пассажиров с нормализованными данными (2 способ)\n",
    "\n",
    "data_normalized_2['Fare'].plot.hist(figsize=(10, 7), bins=80, title='Распределение цены за билет')\n",
    "plt.xlabel('Цена за билет')\n",
    "plt.ylabel('Количество пассажиров')\n",
    "plt.show()"
   ]
  },
  {
   "cell_type": "code",
   "execution_count": 318,
   "metadata": {},
   "outputs": [
    {
     "data": {
      "image/png": "[encoded data removed]",
      "text/plain": [
       "<Figure size 720x504 with 1 Axes>"
      ]
     },
     "metadata": {
      "needs_background": "light"
     },
     "output_type": "display_data"
    }
   ],
   "source": [
    "# Гистограмма распределения количества членов семьи пассажиров на борту с нормализованными данными (2 способ)\n",
    "\n",
    "data_normalized_2['Family'].plot.hist(figsize=(10, 7), bins=30, title='Распределение количества членов семьи')\n",
    "plt.xlabel('Количество членов семьи'), plt.ylabel('Количество пассажиров')\n",
    "plt.show()"
   ]
  },
  {
   "cell_type": "code",
   "execution_count": 28,
   "metadata": {},
   "outputs": [
    {
     "data": {
      "image/png": "[encoded data removed]",
      "text/plain": [
       "<Figure size 1080x720 with 1 Axes>"
      ]
     },
     "metadata": {
      "needs_background": "light"
     },
     "output_type": "display_data"
    }
   ],
   "source": [
    "# Гистограмма распределения всех вещественных признаков с нормализованными данными (2 способ)\n",
    "\n",
    "\n",
    "data_normalized_2.plot.hist(figsize=(15, 10), bins=50, alpha=0.5, title='Распределение всех вещественных признаков')\n",
    "plt.ylabel('Количество пассажиров')\n",
    "plt.legend = columns_new\n",
    "plt.show()"
   ]
  },
  {
   "cell_type": "code",
   "execution_count": null,
   "metadata": {},
   "outputs": [],
   "source": [
    "# Нормализация решает проблему большой разницы в масштабе данных, благодаря чему возможно использовать данные разных столбцов вместе без больших погрешностей\n",
    "# Нормализация создает новые значения данных для числовых столбцов в пределах шкалы 0-1"
   ]
  },
  {
   "cell_type": "markdown",
   "metadata": {
    "id": "dH_JpB49rAxi"
   },
   "source": [
    "### 24"
   ]
  },
  {
   "cell_type": "markdown",
   "metadata": {
    "id": "xf70i08LrQcj"
   },
   "source": [
    "Постройте столбчатую диаграмму с 2 столбцами (количество выживших и не выживших) в зависимости от количества родителей/детей на борту Титаника (поле parch). Какие выводы можно сделать?"
   ]
  },
  {
   "cell_type": "code",
   "execution_count": 111,
   "metadata": {
    "id": "gUBU0jTOrBxB"
   },
   "outputs": [
    {
     "data": {
      "image/png": "[encoded data removed]",
      "text/plain": [
       "<Figure size 720x504 with 1 Axes>"
      ]
     },
     "metadata": {
      "needs_background": "light"
     },
     "output_type": "display_data"
    }
   ],
   "source": [
    "# Диаграмма, показывающая количество выживших и не выживших пассажиров в зависимости от количества родителей/детей на борту\n",
    "\n",
    "df = data.groupby(['Parch', 'Survived'])['Survived'].aggregate('count').unstack().plot.bar(rot=0, figsize=(10,7), color=['red', 'green'])\n",
    "plt.title('Зависимость количества выживших и не выживших пассажиров от количества родителей/детей на борту')\n",
    "plt.xlabel('Количество родителей/детей на борту')\n",
    "plt.ylabel('Количество пассажиров')\n",
    "plt.legend(['Not survived', 'Survived'])\n",
    "plt.show()\n",
    "\n",
    "# На основе диаграммы можно сделать вывод, что больше всего как выживших, так и погибших пассажиров, не имели родителей/детей на борту, что может быть связано с тем, что таких людей большая часть.\n",
    "# Также можно заметить, что выживших без родителей/детей почти в 2 раза меньше, чем погибших, а с 1 родителем/ребенком, наоборот, больше\n",
    "# Выживших с 2 родителями/детьми примерно столько же, сколько и погибших\n",
    "# Если смотреть отдельно на выживших и погибших, то доля пассажиров с родителями/детьми на борту среди выживших больше, чем доля погибших с родителями/детьми среди погибших\n",
    "# Таким образом, вероятность выжить была больше у пассажиров с родителями/детьми на борту"
   ]
  },
  {
   "cell_type": "markdown",
   "metadata": {
    "id": "8kUcbszas6lj"
   },
   "source": [
    "### 25"
   ]
  },
  {
   "cell_type": "markdown",
   "metadata": {
    "id": "MurpTAPms6lj"
   },
   "source": [
    "Используя seaborn violinplot постройте распределение по возрасту (Age) выживших и не выживших пассажиров для каждого класса билета (pclass)."
   ]
  },
  {
   "cell_type": "code",
   "execution_count": 395,
   "metadata": {
    "id": "k8tjeSTcs6lj"
   },
   "outputs": [
    {
     "data": {
      "image/png": "[encoded data removed]",
      "text/plain": [
       "<Figure size 432x288 with 1 Axes>"
      ]
     },
     "metadata": {
      "needs_background": "light"
     },
     "output_type": "display_data"
    }
   ],
   "source": [
    "import seaborn as sns\n",
    "\n",
    "ax = sns.violinplot(x='Pclass', y='Age', hue='Survived', data=data, palette='Set1')\n",
    "ax.set_title('Распределение по возрату выживших и невыживших пассажиров классов билета')\n",
    "ax.set_xlabel('Класс билета')\n",
    "ax.set_ylabel('Возраст пассажиров')\n",
    "plt.show()"
   ]
  },
  {
   "cell_type": "markdown",
   "metadata": {
    "id": "dfdaskG0kQdp"
   },
   "source": [
    "### 26"
   ]
  },
  {
   "cell_type": "markdown",
   "metadata": {
    "id": "d9z4pdkvkQdq"
   },
   "source": [
    "Есть ли в данных категориальные признаки, которые принимают значения строк, а не чисел? Если да, то для многих алгоритмов машинного обучения это может стать серьезным препятствием, поэтому закодируйте категориальные признаки так, чтобы к данным можно было применить любые алгоритмы машинного обучения."
   ]
  },
  {
   "cell_type": "code",
   "execution_count": 30,
   "metadata": {
    "id": "Oc_q0ls7kQdq"
   },
   "outputs": [],
   "source": [
    "# Кодирование пола пассажиров (изменение на 0 и 1)\n",
    "\n",
    "data['Sex'] = data['Sex'].replace(['male', 'female'], [0, 1])"
   ]
  },
  {
   "cell_type": "code",
   "execution_count": 31,
   "metadata": {},
   "outputs": [],
   "source": [
    "# Кодирование порта посадки (one hot encoding)\n",
    "# Сохранение столбца\n",
    "\n",
    "embarked = pd.get_dummies(data['Embarked'])"
   ]
  },
  {
   "cell_type": "code",
   "execution_count": 32,
   "metadata": {},
   "outputs": [],
   "source": [
    "# Кодирование порта посадки (one hot encoding)\n",
    "# Удаление столбца \n",
    "\n",
    "data.drop('Embarked', axis=1, inplace=True)"
   ]
  },
  {
   "cell_type": "code",
   "execution_count": 33,
   "metadata": {},
   "outputs": [],
   "source": [
    "# Кодирование порта посадки (one hot encoding)\n",
    "# Добавление новых столбцов\n",
    "\n",
    "data = pd.concat((data, embarked), axis=1)"
   ]
  },
  {
   "cell_type": "code",
   "execution_count": 34,
   "metadata": {},
   "outputs": [
    {
     "data": {
      "text/html": [
       "<div>\n",
       "<style scoped>\n",
       "    .dataframe tbody tr th:only-of-type {\n",
       "        vertical-align: middle;\n",
       "    }\n",
       "\n",
       "    .dataframe tbody tr th {\n",
       "        vertical-align: top;\n",
       "    }\n",
       "\n",
       "    .dataframe thead th {\n",
       "        text-align: right;\n",
       "    }\n",
       "</style>\n",
       "<table border=\"1\" class=\"dataframe\">\n",
       "  <thead>\n",
       "    <tr style=\"text-align: right;\">\n",
       "      <th></th>\n",
       "      <th>PassengerId</th>\n",
       "      <th>Survived</th>\n",
       "      <th>Pclass</th>\n",
       "      <th>Sex</th>\n",
       "      <th>Age</th>\n",
       "      <th>SibSp</th>\n",
       "      <th>Parch</th>\n",
       "      <th>Fare</th>\n",
       "      <th>Family</th>\n",
       "      <th>HasBigFamily</th>\n",
       "      <th>IsAdult</th>\n",
       "      <th>C</th>\n",
       "      <th>Q</th>\n",
       "      <th>S</th>\n",
       "    </tr>\n",
       "  </thead>\n",
       "  <tbody>\n",
       "    <tr>\n",
       "      <th>0</th>\n",
       "      <td>1</td>\n",
       "      <td>0</td>\n",
       "      <td>3</td>\n",
       "      <td>0</td>\n",
       "      <td>22.0</td>\n",
       "      <td>1</td>\n",
       "      <td>0</td>\n",
       "      <td>7.2500</td>\n",
       "      <td>2</td>\n",
       "      <td>0</td>\n",
       "      <td>1</td>\n",
       "      <td>0</td>\n",
       "      <td>0</td>\n",
       "      <td>1</td>\n",
       "    </tr>\n",
       "    <tr>\n",
       "      <th>1</th>\n",
       "      <td>2</td>\n",
       "      <td>1</td>\n",
       "      <td>1</td>\n",
       "      <td>1</td>\n",
       "      <td>38.0</td>\n",
       "      <td>1</td>\n",
       "      <td>0</td>\n",
       "      <td>71.2833</td>\n",
       "      <td>2</td>\n",
       "      <td>0</td>\n",
       "      <td>1</td>\n",
       "      <td>1</td>\n",
       "      <td>0</td>\n",
       "      <td>0</td>\n",
       "    </tr>\n",
       "    <tr>\n",
       "      <th>2</th>\n",
       "      <td>3</td>\n",
       "      <td>1</td>\n",
       "      <td>3</td>\n",
       "      <td>1</td>\n",
       "      <td>26.0</td>\n",
       "      <td>0</td>\n",
       "      <td>0</td>\n",
       "      <td>7.9250</td>\n",
       "      <td>1</td>\n",
       "      <td>0</td>\n",
       "      <td>1</td>\n",
       "      <td>0</td>\n",
       "      <td>0</td>\n",
       "      <td>1</td>\n",
       "    </tr>\n",
       "    <tr>\n",
       "      <th>3</th>\n",
       "      <td>4</td>\n",
       "      <td>1</td>\n",
       "      <td>1</td>\n",
       "      <td>1</td>\n",
       "      <td>35.0</td>\n",
       "      <td>1</td>\n",
       "      <td>0</td>\n",
       "      <td>53.1000</td>\n",
       "      <td>2</td>\n",
       "      <td>0</td>\n",
       "      <td>1</td>\n",
       "      <td>0</td>\n",
       "      <td>0</td>\n",
       "      <td>1</td>\n",
       "    </tr>\n",
       "    <tr>\n",
       "      <th>4</th>\n",
       "      <td>5</td>\n",
       "      <td>0</td>\n",
       "      <td>3</td>\n",
       "      <td>0</td>\n",
       "      <td>35.0</td>\n",
       "      <td>0</td>\n",
       "      <td>0</td>\n",
       "      <td>8.0500</td>\n",
       "      <td>1</td>\n",
       "      <td>0</td>\n",
       "      <td>1</td>\n",
       "      <td>0</td>\n",
       "      <td>0</td>\n",
       "      <td>1</td>\n",
       "    </tr>\n",
       "    <tr>\n",
       "      <th>...</th>\n",
       "      <td>...</td>\n",
       "      <td>...</td>\n",
       "      <td>...</td>\n",
       "      <td>...</td>\n",
       "      <td>...</td>\n",
       "      <td>...</td>\n",
       "      <td>...</td>\n",
       "      <td>...</td>\n",
       "      <td>...</td>\n",
       "      <td>...</td>\n",
       "      <td>...</td>\n",
       "      <td>...</td>\n",
       "      <td>...</td>\n",
       "      <td>...</td>\n",
       "    </tr>\n",
       "    <tr>\n",
       "      <th>886</th>\n",
       "      <td>887</td>\n",
       "      <td>0</td>\n",
       "      <td>2</td>\n",
       "      <td>0</td>\n",
       "      <td>27.0</td>\n",
       "      <td>0</td>\n",
       "      <td>0</td>\n",
       "      <td>13.0000</td>\n",
       "      <td>1</td>\n",
       "      <td>0</td>\n",
       "      <td>1</td>\n",
       "      <td>0</td>\n",
       "      <td>0</td>\n",
       "      <td>1</td>\n",
       "    </tr>\n",
       "    <tr>\n",
       "      <th>887</th>\n",
       "      <td>888</td>\n",
       "      <td>1</td>\n",
       "      <td>1</td>\n",
       "      <td>1</td>\n",
       "      <td>19.0</td>\n",
       "      <td>0</td>\n",
       "      <td>0</td>\n",
       "      <td>30.0000</td>\n",
       "      <td>1</td>\n",
       "      <td>0</td>\n",
       "      <td>1</td>\n",
       "      <td>0</td>\n",
       "      <td>0</td>\n",
       "      <td>1</td>\n",
       "    </tr>\n",
       "    <tr>\n",
       "      <th>888</th>\n",
       "      <td>889</td>\n",
       "      <td>0</td>\n",
       "      <td>3</td>\n",
       "      <td>1</td>\n",
       "      <td>28.0</td>\n",
       "      <td>1</td>\n",
       "      <td>2</td>\n",
       "      <td>23.4500</td>\n",
       "      <td>4</td>\n",
       "      <td>1</td>\n",
       "      <td>1</td>\n",
       "      <td>0</td>\n",
       "      <td>0</td>\n",
       "      <td>1</td>\n",
       "    </tr>\n",
       "    <tr>\n",
       "      <th>889</th>\n",
       "      <td>890</td>\n",
       "      <td>1</td>\n",
       "      <td>1</td>\n",
       "      <td>0</td>\n",
       "      <td>26.0</td>\n",
       "      <td>0</td>\n",
       "      <td>0</td>\n",
       "      <td>30.0000</td>\n",
       "      <td>1</td>\n",
       "      <td>0</td>\n",
       "      <td>1</td>\n",
       "      <td>1</td>\n",
       "      <td>0</td>\n",
       "      <td>0</td>\n",
       "    </tr>\n",
       "    <tr>\n",
       "      <th>890</th>\n",
       "      <td>891</td>\n",
       "      <td>0</td>\n",
       "      <td>3</td>\n",
       "      <td>0</td>\n",
       "      <td>32.0</td>\n",
       "      <td>0</td>\n",
       "      <td>0</td>\n",
       "      <td>7.7500</td>\n",
       "      <td>1</td>\n",
       "      <td>0</td>\n",
       "      <td>1</td>\n",
       "      <td>0</td>\n",
       "      <td>1</td>\n",
       "      <td>0</td>\n",
       "    </tr>\n",
       "  </tbody>\n",
       "</table>\n",
       "<p>891 rows × 14 columns</p>\n",
       "</div>"
      ],
      "text/plain": [
       "     PassengerId  Survived  Pclass  Sex   Age  SibSp  Parch     Fare  Family  \\\n",
       "0              1         0       3    0  22.0      1      0   7.2500       2   \n",
       "1              2         1       1    1  38.0      1      0  71.2833       2   \n",
       "2              3         1       3    1  26.0      0      0   7.9250       1   \n",
       "3              4         1       1    1  35.0      1      0  53.1000       2   \n",
       "4              5         0       3    0  35.0      0      0   8.0500       1   \n",
       "..           ...       ...     ...  ...   ...    ...    ...      ...     ...   \n",
       "886          887         0       2    0  27.0      0      0  13.0000       1   \n",
       "887          888         1       1    1  19.0      0      0  30.0000       1   \n",
       "888          889         0       3    1  28.0      1      2  23.4500       4   \n",
       "889          890         1       1    0  26.0      0      0  30.0000       1   \n",
       "890          891         0       3    0  32.0      0      0   7.7500       1   \n",
       "\n",
       "     HasBigFamily  IsAdult  C  Q  S  \n",
       "0               0        1  0  0  1  \n",
       "1               0        1  1  0  0  \n",
       "2               0        1  0  0  1  \n",
       "3               0        1  0  0  1  \n",
       "4               0        1  0  0  1  \n",
       "..            ...      ... .. .. ..  \n",
       "886             0        1  0  0  1  \n",
       "887             0        1  0  0  1  \n",
       "888             1        1  0  0  1  \n",
       "889             0        1  1  0  0  \n",
       "890             0        1  0  1  0  \n",
       "\n",
       "[891 rows x 14 columns]"
      ]
     },
     "execution_count": 34,
     "metadata": {},
     "output_type": "execute_result"
    }
   ],
   "source": [
    "data"
   ]
  }
 ],
 "metadata": {
  "colab": {
   "collapsed_sections": [],
   "name": "hw1.ipynb",
   "provenance": []
  },
  "kernelspec": {
   "display_name": "Python 3 (ipykernel)",
   "language": "python",
   "name": "python3"
  },
  "language_info": {
   "codemirror_mode": {
    "name": "ipython",
    "version": 3
   },
   "file_extension": ".py",
   "mimetype": "text/x-python",
   "name": "python",
   "nbconvert_exporter": "python",
   "pygments_lexer": "ipython3",
   "version": "3.9.7"
  }
 },
 "nbformat": 4,
 "nbformat_minor": 1
}
